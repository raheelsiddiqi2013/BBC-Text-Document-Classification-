{
 "cells": [
  {
   "cell_type": "markdown",
   "metadata": {},
   "source": [
    "# Preprocessing the raw BBC Text Document Data"
   ]
  },
  {
   "cell_type": "code",
   "execution_count": 1,
   "metadata": {},
   "outputs": [],
   "source": [
    "import os\n",
    "\n",
    "bbc_dir='D:\\\\TensorFlow Programs\\\\Text Classification Programs and Datasets\\\\bbc'\n",
    "\n",
    "labels = []\n",
    "texts = []\n",
    "\n",
    "for label_type in ['business','entertainment','politics','sport','tech']:\n",
    "    dir_name=os.path.join(bbc_dir, label_type)\n",
    "    for fname in os.listdir(dir_name):\n",
    "        if fname[-4:]=='.txt':\n",
    "            f=open(os.path.join(dir_name,fname))\n",
    "            texts.append(f.read())\n",
    "            f.close()\n",
    "            if label_type=='business':\n",
    "                labels.append(0)\n",
    "            elif label_type=='entertainment':\n",
    "                labels.append(1)\n",
    "            elif label_type=='politics':\n",
    "                labels.append(2)\n",
    "            elif label_type=='sport':\n",
    "                labels.append(3)\n",
    "            elif label_type=='tech':\n",
    "                labels.append(4)"
   ]
  },
  {
   "cell_type": "markdown",
   "metadata": {},
   "source": [
    "# Tokenizing the data"
   ]
  },
  {
   "cell_type": "code",
   "execution_count": 2,
   "metadata": {},
   "outputs": [
    {
     "name": "stderr",
     "output_type": "stream",
     "text": [
      "Using TensorFlow backend.\n"
     ]
    },
    {
     "name": "stdout",
     "output_type": "stream",
     "text": [
      "Found 32360 unique tokens\n",
      "(2225, 5)\n",
      "Shape of data tensor: (2225, 400)\n",
      "Shape of label tensor: (2225, 5)\n"
     ]
    }
   ],
   "source": [
    "from keras.preprocessing.text import Tokenizer\n",
    "from keras.preprocessing.sequence import pad_sequences\n",
    "from keras.utils import to_categorical\n",
    "import numpy as np\n",
    "\n",
    "maxlen=400\n",
    "training_samples=1900\n",
    "validation_samples=len(texts)-training_samples\n",
    "max_words=30000\n",
    "\n",
    "tokenizer=Tokenizer(num_words=max_words)\n",
    "tokenizer.fit_on_texts(texts)\n",
    "sequences=tokenizer.texts_to_sequences(texts)\n",
    "word_index=tokenizer.word_index\n",
    "print('Found %s unique tokens'%len(word_index))\n",
    "\n",
    "data=pad_sequences(sequences, maxlen=maxlen)\n",
    "\n",
    "labels=np.asarray(labels)\n",
    "labels=to_categorical(labels,num_classes=5)\n",
    "print(labels.shape)\n",
    "print('Shape of data tensor:',data.shape)\n",
    "print('Shape of label tensor:',labels.shape)\n",
    "\n",
    "indices=np.arange(data.shape[0])\n",
    "np.random.shuffle(indices)\n",
    "data=data[indices]\n",
    "labels=labels[indices]\n",
    "      \n",
    "x_train=data[:training_samples]\n",
    "y_train=labels[:training_samples]\n",
    "x_val=data[training_samples:training_samples+validation_samples]\n",
    "y_val=labels[training_samples:training_samples+validation_samples]"
   ]
  },
  {
   "cell_type": "markdown",
   "metadata": {},
   "source": [
    "# Defining a model"
   ]
  },
  {
   "cell_type": "code",
   "execution_count": 3,
   "metadata": {},
   "outputs": [
    {
     "name": "stdout",
     "output_type": "stream",
     "text": [
      "WARNING:tensorflow:From C:\\Users\\Raheel\\Anaconda3\\envs\\EnvName\\lib\\site-packages\\tensorflow\\python\\framework\\op_def_library.py:263: colocate_with (from tensorflow.python.framework.ops) is deprecated and will be removed in a future version.\n",
      "Instructions for updating:\n",
      "Colocations handled automatically by placer.\n",
      "_________________________________________________________________\n",
      "Layer (type)                 Output Shape              Param #   \n",
      "=================================================================\n",
      "embedding_1 (Embedding)      (None, None, 100)         3000000   \n",
      "_________________________________________________________________\n",
      "lstm_1 (LSTM)                (None, 128)               117248    \n",
      "_________________________________________________________________\n",
      "dense_1 (Dense)              (None, 5)                 645       \n",
      "=================================================================\n",
      "Total params: 3,117,893\n",
      "Trainable params: 3,117,893\n",
      "Non-trainable params: 0\n",
      "_________________________________________________________________\n"
     ]
    }
   ],
   "source": [
    "from keras.models import Sequential\n",
    "from keras.layers import Embedding, LSTM, Dense\n",
    "from keras import optimizers\n",
    "\n",
    "embedding_dim=100\n",
    "model=Sequential()\n",
    "model.add(Embedding(max_words,embedding_dim))\n",
    "model.add(LSTM(128))\n",
    "model.add(Dense(5, activation='softmax'))\n",
    "model.compile(loss='categorical_crossentropy',optimizer=optimizers.Adam(lr=1e-4),metrics=['categorical_accuracy'])\n",
    "model.summary()"
   ]
  },
  {
   "cell_type": "markdown",
   "metadata": {},
   "source": [
    "# Model Training"
   ]
  },
  {
   "cell_type": "code",
   "execution_count": 4,
   "metadata": {},
   "outputs": [
    {
     "name": "stdout",
     "output_type": "stream",
     "text": [
      "WARNING:tensorflow:From C:\\Users\\Raheel\\Anaconda3\\envs\\EnvName\\lib\\site-packages\\tensorflow\\python\\ops\\math_ops.py:3066: to_int32 (from tensorflow.python.ops.math_ops) is deprecated and will be removed in a future version.\n",
      "Instructions for updating:\n",
      "Use tf.cast instead.\n",
      "Train on 1900 samples, validate on 325 samples\n",
      "Epoch 1/50\n",
      "1900/1900 [==============================] - 35s 18ms/step - loss: 1.6082 - categorical_accuracy: 0.2205 - val_loss: 1.6051 - val_categorical_accuracy: 0.2554\n",
      "Epoch 2/50\n",
      "1900/1900 [==============================] - 32s 17ms/step - loss: 1.6016 - categorical_accuracy: 0.2979 - val_loss: 1.5973 - val_categorical_accuracy: 0.2892\n",
      "Epoch 3/50\n",
      "1900/1900 [==============================] - 32s 17ms/step - loss: 1.5859 - categorical_accuracy: 0.3179 - val_loss: 1.5725 - val_categorical_accuracy: 0.3508\n",
      "Epoch 4/50\n",
      "1900/1900 [==============================] - 32s 17ms/step - loss: 1.5633 - categorical_accuracy: 0.3863 - val_loss: 1.5612 - val_categorical_accuracy: 0.3723\n",
      "Epoch 5/50\n",
      "1900/1900 [==============================] - 32s 17ms/step - loss: 1.5367 - categorical_accuracy: 0.4142 - val_loss: 1.5259 - val_categorical_accuracy: 0.4062\n",
      "Epoch 6/50\n",
      "1900/1900 [==============================] - 32s 17ms/step - loss: 1.3681 - categorical_accuracy: 0.4600 - val_loss: 1.0891 - val_categorical_accuracy: 0.5969\n",
      "Epoch 7/50\n",
      "1900/1900 [==============================] - 32s 17ms/step - loss: 1.3781 - categorical_accuracy: 0.6305 - val_loss: 1.5179 - val_categorical_accuracy: 0.5969\n",
      "Epoch 8/50\n",
      "1900/1900 [==============================] - 32s 17ms/step - loss: 1.4696 - categorical_accuracy: 0.7111 - val_loss: 1.5025 - val_categorical_accuracy: 0.6277\n",
      "Epoch 9/50\n",
      "1900/1900 [==============================] - 32s 17ms/step - loss: 1.4454 - categorical_accuracy: 0.7605 - val_loss: 1.4832 - val_categorical_accuracy: 0.6554\n",
      "Epoch 10/50\n",
      "1900/1900 [==============================] - 32s 17ms/step - loss: 1.4162 - categorical_accuracy: 0.7947 - val_loss: 1.4587 - val_categorical_accuracy: 0.6985\n",
      "Epoch 11/50\n",
      "1900/1900 [==============================] - 32s 17ms/step - loss: 1.3799 - categorical_accuracy: 0.8126 - val_loss: 1.4269 - val_categorical_accuracy: 0.7169\n",
      "Epoch 12/50\n",
      "1900/1900 [==============================] - 32s 17ms/step - loss: 1.3317 - categorical_accuracy: 0.8226 - val_loss: 1.3809 - val_categorical_accuracy: 0.7108\n",
      "Epoch 13/50\n",
      "1900/1900 [==============================] - 32s 17ms/step - loss: 1.2389 - categorical_accuracy: 0.7884 - val_loss: 1.1903 - val_categorical_accuracy: 0.6092\n",
      "Epoch 14/50\n",
      "1900/1900 [==============================] - 32s 17ms/step - loss: 1.0562 - categorical_accuracy: 0.7442 - val_loss: 1.0881 - val_categorical_accuracy: 0.6985\n",
      "Epoch 15/50\n",
      "1900/1900 [==============================] - 32s 17ms/step - loss: 0.9597 - categorical_accuracy: 0.7816 - val_loss: 0.9767 - val_categorical_accuracy: 0.7231\n",
      "Epoch 16/50\n",
      "1900/1900 [==============================] - 32s 17ms/step - loss: 0.8211 - categorical_accuracy: 0.7758 - val_loss: 0.8119 - val_categorical_accuracy: 0.7508\n",
      "Epoch 17/50\n",
      "1900/1900 [==============================] - 32s 17ms/step - loss: 0.7366 - categorical_accuracy: 0.8000 - val_loss: 0.7679 - val_categorical_accuracy: 0.7415\n",
      "Epoch 18/50\n",
      "1900/1900 [==============================] - 32s 17ms/step - loss: 0.6900 - categorical_accuracy: 0.8063 - val_loss: 0.7491 - val_categorical_accuracy: 0.7662\n",
      "Epoch 19/50\n",
      "1900/1900 [==============================] - 32s 17ms/step - loss: 0.6582 - categorical_accuracy: 0.8089 - val_loss: 0.6839 - val_categorical_accuracy: 0.7662\n",
      "Epoch 20/50\n",
      "1900/1900 [==============================] - 32s 17ms/step - loss: 0.5966 - categorical_accuracy: 0.8137 - val_loss: 0.6649 - val_categorical_accuracy: 0.7508\n",
      "Epoch 21/50\n",
      "1900/1900 [==============================] - 32s 17ms/step - loss: 0.5348 - categorical_accuracy: 0.8195 - val_loss: 0.6120 - val_categorical_accuracy: 0.7692\n",
      "Epoch 22/50\n",
      "1900/1900 [==============================] - 32s 17ms/step - loss: 0.4736 - categorical_accuracy: 0.8363 - val_loss: 0.5981 - val_categorical_accuracy: 0.7938\n",
      "Epoch 23/50\n",
      "1900/1900 [==============================] - 32s 17ms/step - loss: 0.4132 - categorical_accuracy: 0.8511 - val_loss: 0.6394 - val_categorical_accuracy: 0.7908\n",
      "Epoch 24/50\n",
      "1900/1900 [==============================] - 32s 17ms/step - loss: 0.3924 - categorical_accuracy: 0.8674 - val_loss: 0.6418 - val_categorical_accuracy: 0.7846\n",
      "Epoch 25/50\n",
      "1900/1900 [==============================] - 32s 17ms/step - loss: 0.3695 - categorical_accuracy: 0.9042 - val_loss: 0.5400 - val_categorical_accuracy: 0.8308\n",
      "Epoch 26/50\n",
      "1900/1900 [==============================] - 32s 17ms/step - loss: 0.3189 - categorical_accuracy: 0.9416 - val_loss: 0.5592 - val_categorical_accuracy: 0.8369\n",
      "Epoch 27/50\n",
      "1900/1900 [==============================] - 32s 17ms/step - loss: 0.3021 - categorical_accuracy: 0.9479 - val_loss: 0.4812 - val_categorical_accuracy: 0.8738\n",
      "Epoch 28/50\n",
      "1900/1900 [==============================] - 32s 17ms/step - loss: 0.2539 - categorical_accuracy: 0.9684 - val_loss: 0.4419 - val_categorical_accuracy: 0.8769\n",
      "Epoch 29/50\n",
      "1900/1900 [==============================] - 32s 17ms/step - loss: 0.1920 - categorical_accuracy: 0.9826 - val_loss: 0.4076 - val_categorical_accuracy: 0.8892\n",
      "Epoch 30/50\n",
      "1900/1900 [==============================] - 32s 17ms/step - loss: 0.1517 - categorical_accuracy: 0.9868 - val_loss: 0.4028 - val_categorical_accuracy: 0.9015\n",
      "Epoch 31/50\n",
      "1900/1900 [==============================] - 32s 17ms/step - loss: 0.3828 - categorical_accuracy: 0.8647 - val_loss: 0.6897 - val_categorical_accuracy: 0.7138\n",
      "Epoch 32/50\n",
      "1900/1900 [==============================] - 32s 17ms/step - loss: 0.3913 - categorical_accuracy: 0.8926 - val_loss: 0.5173 - val_categorical_accuracy: 0.8862\n",
      "Epoch 33/50\n",
      "1900/1900 [==============================] - 32s 17ms/step - loss: 0.2147 - categorical_accuracy: 0.9853 - val_loss: 0.5066 - val_categorical_accuracy: 0.8923\n",
      "Epoch 34/50\n",
      "1900/1900 [==============================] - 32s 17ms/step - loss: 0.1794 - categorical_accuracy: 0.9826 - val_loss: 0.4836 - val_categorical_accuracy: 0.8646\n",
      "Epoch 35/50\n",
      "1900/1900 [==============================] - 32s 17ms/step - loss: 0.2864 - categorical_accuracy: 0.9121 - val_loss: 1.5443 - val_categorical_accuracy: 0.4431\n",
      "Epoch 36/50\n",
      "1900/1900 [==============================] - 32s 17ms/step - loss: 0.8290 - categorical_accuracy: 0.6321 - val_loss: 0.7082 - val_categorical_accuracy: 0.7354\n",
      "Epoch 37/50\n",
      "1900/1900 [==============================] - 32s 17ms/step - loss: 0.4785 - categorical_accuracy: 0.8542 - val_loss: 0.4916 - val_categorical_accuracy: 0.8554\n",
      "Epoch 38/50\n",
      "1900/1900 [==============================] - 32s 17ms/step - loss: 0.2513 - categorical_accuracy: 0.9805 - val_loss: 0.4521 - val_categorical_accuracy: 0.9015\n",
      "Epoch 39/50\n",
      "1900/1900 [==============================] - 32s 17ms/step - loss: 0.1982 - categorical_accuracy: 0.9889 - val_loss: 0.4644 - val_categorical_accuracy: 0.8862\n",
      "Epoch 40/50\n",
      "1900/1900 [==============================] - 32s 17ms/step - loss: 0.1716 - categorical_accuracy: 0.9900 - val_loss: 0.4298 - val_categorical_accuracy: 0.8954\n",
      "Epoch 41/50\n",
      "1900/1900 [==============================] - 32s 17ms/step - loss: 0.1404 - categorical_accuracy: 0.9921 - val_loss: 0.3906 - val_categorical_accuracy: 0.9015\n",
      "Epoch 42/50\n",
      "1900/1900 [==============================] - 34s 18ms/step - loss: 0.1272 - categorical_accuracy: 0.9879 - val_loss: 0.4156 - val_categorical_accuracy: 0.8892\n",
      "Epoch 43/50\n",
      "1900/1900 [==============================] - 34s 18ms/step - loss: 0.1046 - categorical_accuracy: 0.9916 - val_loss: 0.3779 - val_categorical_accuracy: 0.8985\n",
      "Epoch 44/50\n",
      "1900/1900 [==============================] - 33s 17ms/step - loss: 0.1947 - categorical_accuracy: 0.9653 - val_loss: 1.1212 - val_categorical_accuracy: 0.7200\n",
      "Epoch 45/50\n",
      "1900/1900 [==============================] - 33s 17ms/step - loss: 0.4397 - categorical_accuracy: 0.8942 - val_loss: 0.5060 - val_categorical_accuracy: 0.8492\n",
      "Epoch 46/50\n",
      "1900/1900 [==============================] - 32s 17ms/step - loss: 0.1509 - categorical_accuracy: 0.9742 - val_loss: 0.3161 - val_categorical_accuracy: 0.9169\n",
      "Epoch 47/50\n"
     ]
    },
    {
     "name": "stdout",
     "output_type": "stream",
     "text": [
      "1900/1900 [==============================] - 32s 17ms/step - loss: 0.0906 - categorical_accuracy: 0.9884 - val_loss: 0.3208 - val_categorical_accuracy: 0.9046\n",
      "Epoch 48/50\n",
      "1900/1900 [==============================] - 33s 17ms/step - loss: 0.0771 - categorical_accuracy: 0.9900 - val_loss: 0.3231 - val_categorical_accuracy: 0.9108\n",
      "Epoch 49/50\n",
      "1900/1900 [==============================] - 33s 17ms/step - loss: 0.0657 - categorical_accuracy: 0.9921 - val_loss: 0.3530 - val_categorical_accuracy: 0.8954\n",
      "Epoch 50/50\n",
      "1900/1900 [==============================] - 32s 17ms/step - loss: 0.1376 - categorical_accuracy: 0.9753 - val_loss: 0.5638 - val_categorical_accuracy: 0.8615\n"
     ]
    }
   ],
   "source": [
    "history=model.fit(x_train,y_train, epochs=50, batch_size=32, validation_data=(x_val,y_val))"
   ]
  },
  {
   "cell_type": "markdown",
   "metadata": {},
   "source": [
    "# Plotting the results"
   ]
  },
  {
   "cell_type": "code",
   "execution_count": 5,
   "metadata": {},
   "outputs": [
    {
     "data": {
      "image/png": "[encoded data removed]",
      "text/plain": [
       "<Figure size 432x288 with 1 Axes>"
      ]
     },
     "metadata": {
      "needs_background": "light"
     },
     "output_type": "display_data"
    },
    {
     "data": {
      "image/png": "[encoded data removed]",
      "text/plain": [
       "<Figure size 432x288 with 1 Axes>"
      ]
     },
     "metadata": {
      "needs_background": "light"
     },
     "output_type": "display_data"
    }
   ],
   "source": [
    "import matplotlib.pyplot as plt\n",
    "%matplotlib inline\n",
    "\n",
    "acc=history.history['categorical_accuracy']\n",
    "val_acc=history.history['val_categorical_accuracy']\n",
    "loss=history.history['loss']\n",
    "val_loss=history.history['val_loss']\n",
    "epochs=range(1,len(acc)+1)\n",
    "plt.xlabel('Epochs')\n",
    "plt.ylabel('Accuracy')\n",
    "plt.plot(epochs, acc, 'bo', label='Training acc')\n",
    "plt.plot(epochs, val_acc, 'b', label='Validation acc')\n",
    "plt.title('Training and validation accuracy')\n",
    "plt.legend()\n",
    "plt.figure()\n",
    "\n",
    "plt.plot(epochs, loss, 'bo', label='Training loss')\n",
    "plt.plot(epochs, val_loss, 'b', label='Validation loss')\n",
    "plt.title('Training and validation loss')\n",
    "plt.xlabel('Epochs')\n",
    "plt.ylabel('Loss')\n",
    "plt.legend()\n",
    "plt.show()"
   ]
  }
 ],
 "metadata": {
  "kernelspec": {
   "display_name": "Python 3",
   "language": "python",
   "name": "python3"
  },
  "language_info": {
   "codemirror_mode": {
    "name": "ipython",
    "version": 3
   },
   "file_extension": ".py",
   "mimetype": "text/x-python",
   "name": "python",
   "nbconvert_exporter": "python",
   "pygments_lexer": "ipython3",
   "version": "3.6.8"
  }
 },
 "nbformat": 4,
 "nbformat_minor": 2
}
