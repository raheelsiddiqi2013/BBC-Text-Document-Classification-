{
 "cells": [
  {
   "cell_type": "markdown",
   "metadata": {},
   "source": [
    "# Preprocessing the raw BBC Text Document Data"
   ]
  },
  {
   "cell_type": "code",
   "execution_count": 1,
   "metadata": {},
   "outputs": [],
   "source": [
    "import os\n",
    "\n",
    "bbc_dir='D:\\\\TensorFlow Programs\\\\Text Classification Programs and Datasets\\\\bbc'\n",
    "\n",
    "labels = []\n",
    "texts = []\n",
    "\n",
    "for label_type in ['business','entertainment','politics','sport','tech']:\n",
    "    dir_name=os.path.join(bbc_dir, label_type)\n",
    "    for fname in os.listdir(dir_name):\n",
    "        if fname[-4:]=='.txt':\n",
    "            f=open(os.path.join(dir_name,fname))\n",
    "            texts.append(f.read())\n",
    "            f.close()\n",
    "            if label_type=='business':\n",
    "                labels.append(0)\n",
    "            elif label_type=='entertainment':\n",
    "                labels.append(1)\n",
    "            elif label_type=='politics':\n",
    "                labels.append(2)\n",
    "            elif label_type=='sport':\n",
    "                labels.append(3)\n",
    "            elif label_type=='tech':\n",
    "                labels.append(4)"
   ]
  },
  {
   "cell_type": "markdown",
   "metadata": {},
   "source": [
    "# Tokenizing the data"
   ]
  },
  {
   "cell_type": "code",
   "execution_count": 2,
   "metadata": {},
   "outputs": [
    {
     "name": "stderr",
     "output_type": "stream",
     "text": [
      "Using TensorFlow backend.\n"
     ]
    },
    {
     "name": "stdout",
     "output_type": "stream",
     "text": [
      "Found 32360 unique tokens\n",
      "(2225, 5)\n",
      "Shape of data tensor: (2225, 400)\n",
      "Shape of label tensor: (2225, 5)\n"
     ]
    }
   ],
   "source": [
    "from keras.preprocessing.text import Tokenizer\n",
    "from keras.preprocessing.sequence import pad_sequences\n",
    "from keras.utils import to_categorical\n",
    "import numpy as np\n",
    "\n",
    "maxlen=400\n",
    "training_samples=1900\n",
    "validation_samples=len(texts)-training_samples\n",
    "max_words=30000\n",
    "\n",
    "tokenizer=Tokenizer(num_words=max_words)\n",
    "tokenizer.fit_on_texts(texts)\n",
    "sequences=tokenizer.texts_to_sequences(texts)\n",
    "word_index=tokenizer.word_index\n",
    "print('Found %s unique tokens'%len(word_index))\n",
    "\n",
    "data=pad_sequences(sequences, maxlen=maxlen)\n",
    "\n",
    "labels=np.asarray(labels)\n",
    "labels=to_categorical(labels,num_classes=5)\n",
    "print(labels.shape)\n",
    "print('Shape of data tensor:',data.shape)\n",
    "print('Shape of label tensor:',labels.shape)\n",
    "\n",
    "indices=np.arange(data.shape[0])\n",
    "np.random.shuffle(indices)\n",
    "data=data[indices]\n",
    "labels=labels[indices]\n",
    "      \n",
    "x_train=data[:training_samples]\n",
    "y_train=labels[:training_samples]\n",
    "x_val=data[training_samples:training_samples+validation_samples]\n",
    "y_val=labels[training_samples:training_samples+validation_samples]"
   ]
  },
  {
   "cell_type": "markdown",
   "metadata": {},
   "source": [
    "# Defining a model"
   ]
  },
  {
   "cell_type": "code",
   "execution_count": 3,
   "metadata": {},
   "outputs": [
    {
     "name": "stdout",
     "output_type": "stream",
     "text": [
      "WARNING:tensorflow:From C:\\Users\\Raheel\\Anaconda3\\envs\\EnvName\\lib\\site-packages\\tensorflow\\python\\framework\\op_def_library.py:263: colocate_with (from tensorflow.python.framework.ops) is deprecated and will be removed in a future version.\n",
      "Instructions for updating:\n",
      "Colocations handled automatically by placer.\n",
      "WARNING:tensorflow:From C:\\Users\\Raheel\\Anaconda3\\envs\\EnvName\\lib\\site-packages\\keras\\backend\\tensorflow_backend.py:3445: calling dropout (from tensorflow.python.ops.nn_ops) with keep_prob is deprecated and will be removed in a future version.\n",
      "Instructions for updating:\n",
      "Please use `rate` instead of `keep_prob`. Rate should be set to `rate = 1 - keep_prob`.\n",
      "_________________________________________________________________\n",
      "Layer (type)                 Output Shape              Param #   \n",
      "=================================================================\n",
      "embedding_1 (Embedding)      (None, None, 100)         3000000   \n",
      "_________________________________________________________________\n",
      "lstm_1 (LSTM)                (None, 512)               1255424   \n",
      "_________________________________________________________________\n",
      "dense_1 (Dense)              (None, 5)                 2565      \n",
      "=================================================================\n",
      "Total params: 4,257,989\n",
      "Trainable params: 4,257,989\n",
      "Non-trainable params: 0\n",
      "_________________________________________________________________\n"
     ]
    }
   ],
   "source": [
    "from keras.models import Sequential\n",
    "from keras.layers import Embedding, LSTM, Dense\n",
    "from keras import optimizers\n",
    "from keras.callbacks import ModelCheckpoint\n",
    "\n",
    "embedding_dim=100\n",
    "model=Sequential()\n",
    "model.add(Embedding(max_words,embedding_dim))\n",
    "model.add(LSTM(512,dropout=0.2,recurrent_dropout=0.2))\n",
    "model.add(Dense(5, activation='softmax'))\n",
    "model.compile(loss='categorical_crossentropy',optimizer=optimizers.Adam(lr=1e-4),metrics=['categorical_accuracy'])\n",
    "model.summary()\n",
    "filepath=\"BBC_Text_Document_Classification_using_Recurrent_Neural_Network_12th Experiment.h5\"\n",
    "checkpoint = ModelCheckpoint(filepath, save_best_only=True)\n",
    "callbacks_list = [checkpoint]"
   ]
  },
  {
   "cell_type": "markdown",
   "metadata": {},
   "source": [
    "# Model Training"
   ]
  },
  {
   "cell_type": "code",
   "execution_count": 4,
   "metadata": {},
   "outputs": [
    {
     "name": "stdout",
     "output_type": "stream",
     "text": [
      "WARNING:tensorflow:From C:\\Users\\Raheel\\Anaconda3\\envs\\EnvName\\lib\\site-packages\\tensorflow\\python\\ops\\math_ops.py:3066: to_int32 (from tensorflow.python.ops.math_ops) is deprecated and will be removed in a future version.\n",
      "Instructions for updating:\n",
      "Use tf.cast instead.\n",
      "Train on 1900 samples, validate on 325 samples\n",
      "Epoch 1/50\n",
      "1900/1900 [==============================] - 39s 20ms/step - loss: 1.6065 - categorical_accuracy: 0.2505 - val_loss: 1.6008 - val_categorical_accuracy: 0.3169\n",
      "Epoch 2/50\n",
      "1900/1900 [==============================] - 37s 19ms/step - loss: 1.5969 - categorical_accuracy: 0.2789 - val_loss: 1.5788 - val_categorical_accuracy: 0.3508\n",
      "Epoch 3/50\n",
      "1900/1900 [==============================] - 37s 19ms/step - loss: 1.5206 - categorical_accuracy: 0.4105 - val_loss: 1.4567 - val_categorical_accuracy: 0.4492\n",
      "Epoch 4/50\n",
      "1900/1900 [==============================] - 36s 19ms/step - loss: 1.3699 - categorical_accuracy: 0.4463 - val_loss: 1.1785 - val_categorical_accuracy: 0.4615\n",
      "Epoch 5/50\n",
      "1900/1900 [==============================] - 37s 19ms/step - loss: 1.2262 - categorical_accuracy: 0.4516 - val_loss: 1.1300 - val_categorical_accuracy: 0.4738\n",
      "Epoch 6/50\n",
      "1900/1900 [==============================] - 36s 19ms/step - loss: 1.2373 - categorical_accuracy: 0.4811 - val_loss: 1.0816 - val_categorical_accuracy: 0.4646\n",
      "Epoch 7/50\n",
      "1900/1900 [==============================] - 36s 19ms/step - loss: 1.1001 - categorical_accuracy: 0.4974 - val_loss: 1.0450 - val_categorical_accuracy: 0.4646\n",
      "Epoch 8/50\n",
      "1900/1900 [==============================] - 36s 19ms/step - loss: 1.0275 - categorical_accuracy: 0.5179 - val_loss: 1.0505 - val_categorical_accuracy: 0.5015\n",
      "Epoch 9/50\n",
      "1900/1900 [==============================] - 36s 19ms/step - loss: 0.9777 - categorical_accuracy: 0.5511 - val_loss: 1.0845 - val_categorical_accuracy: 0.5046\n",
      "Epoch 10/50\n",
      "1900/1900 [==============================] - 36s 19ms/step - loss: 0.9790 - categorical_accuracy: 0.5895 - val_loss: 0.9281 - val_categorical_accuracy: 0.5938\n",
      "Epoch 11/50\n",
      "1900/1900 [==============================] - 36s 19ms/step - loss: 0.8689 - categorical_accuracy: 0.6400 - val_loss: 0.8634 - val_categorical_accuracy: 0.6062\n",
      "Epoch 12/50\n",
      "1900/1900 [==============================] - 36s 19ms/step - loss: 0.7753 - categorical_accuracy: 0.6858 - val_loss: 0.7758 - val_categorical_accuracy: 0.6708\n",
      "Epoch 13/50\n",
      "1900/1900 [==============================] - 36s 19ms/step - loss: 0.7152 - categorical_accuracy: 0.7284 - val_loss: 0.7813 - val_categorical_accuracy: 0.6585\n",
      "Epoch 14/50\n",
      "1900/1900 [==============================] - 36s 19ms/step - loss: 0.6793 - categorical_accuracy: 0.7511 - val_loss: 0.7326 - val_categorical_accuracy: 0.7785\n",
      "Epoch 15/50\n",
      "1900/1900 [==============================] - 36s 19ms/step - loss: 0.5952 - categorical_accuracy: 0.7937 - val_loss: 0.6996 - val_categorical_accuracy: 0.7446\n",
      "Epoch 16/50\n",
      "1900/1900 [==============================] - 36s 19ms/step - loss: 0.5543 - categorical_accuracy: 0.8042 - val_loss: 0.6860 - val_categorical_accuracy: 0.7538\n",
      "Epoch 17/50\n",
      "1900/1900 [==============================] - 36s 19ms/step - loss: 0.4540 - categorical_accuracy: 0.8579 - val_loss: 0.5867 - val_categorical_accuracy: 0.7877\n",
      "Epoch 18/50\n",
      "1900/1900 [==============================] - 36s 19ms/step - loss: 0.4370 - categorical_accuracy: 0.8826 - val_loss: 0.6009 - val_categorical_accuracy: 0.7846\n",
      "Epoch 19/50\n",
      "1900/1900 [==============================] - 36s 19ms/step - loss: 0.3618 - categorical_accuracy: 0.8884 - val_loss: 0.5598 - val_categorical_accuracy: 0.8000\n",
      "Epoch 20/50\n",
      "1900/1900 [==============================] - 36s 19ms/step - loss: 0.3477 - categorical_accuracy: 0.9079 - val_loss: 0.5968 - val_categorical_accuracy: 0.7877\n",
      "Epoch 21/50\n",
      "1900/1900 [==============================] - 36s 19ms/step - loss: 0.3103 - categorical_accuracy: 0.9147 - val_loss: 0.5962 - val_categorical_accuracy: 0.8000\n",
      "Epoch 22/50\n",
      "1900/1900 [==============================] - 36s 19ms/step - loss: 0.2672 - categorical_accuracy: 0.9321 - val_loss: 0.5220 - val_categorical_accuracy: 0.8000\n",
      "Epoch 23/50\n",
      "1900/1900 [==============================] - 36s 19ms/step - loss: 0.2130 - categorical_accuracy: 0.9495 - val_loss: 0.5368 - val_categorical_accuracy: 0.8031\n",
      "Epoch 24/50\n",
      "1900/1900 [==============================] - 36s 19ms/step - loss: 0.1964 - categorical_accuracy: 0.9521 - val_loss: 0.5398 - val_categorical_accuracy: 0.7938\n",
      "Epoch 25/50\n",
      "1900/1900 [==============================] - 36s 19ms/step - loss: 0.1785 - categorical_accuracy: 0.9595 - val_loss: 0.7075 - val_categorical_accuracy: 0.7015\n",
      "Epoch 26/50\n",
      "1900/1900 [==============================] - 36s 19ms/step - loss: 0.1567 - categorical_accuracy: 0.9600 - val_loss: 0.5109 - val_categorical_accuracy: 0.8154\n",
      "Epoch 27/50\n",
      "1900/1900 [==============================] - 36s 19ms/step - loss: 0.1464 - categorical_accuracy: 0.9695 - val_loss: 0.6392 - val_categorical_accuracy: 0.7785\n",
      "Epoch 28/50\n",
      "1900/1900 [==============================] - 36s 19ms/step - loss: 0.1730 - categorical_accuracy: 0.9595 - val_loss: 0.7898 - val_categorical_accuracy: 0.7446\n",
      "Epoch 29/50\n",
      "1900/1900 [==============================] - 36s 19ms/step - loss: 0.1774 - categorical_accuracy: 0.9589 - val_loss: 0.5501 - val_categorical_accuracy: 0.8123\n",
      "Epoch 30/50\n",
      "1900/1900 [==============================] - 36s 19ms/step - loss: 0.0942 - categorical_accuracy: 0.9816 - val_loss: 0.5256 - val_categorical_accuracy: 0.8185\n",
      "Epoch 31/50\n",
      "1900/1900 [==============================] - 37s 19ms/step - loss: 0.0837 - categorical_accuracy: 0.9811 - val_loss: 0.5962 - val_categorical_accuracy: 0.8000\n",
      "Epoch 32/50\n",
      "1900/1900 [==============================] - 36s 19ms/step - loss: 0.0651 - categorical_accuracy: 0.9868 - val_loss: 0.5633 - val_categorical_accuracy: 0.8092\n",
      "Epoch 33/50\n",
      "1900/1900 [==============================] - 36s 19ms/step - loss: 0.0680 - categorical_accuracy: 0.9874 - val_loss: 0.6827 - val_categorical_accuracy: 0.7785\n",
      "Epoch 34/50\n",
      "1900/1900 [==============================] - 36s 19ms/step - loss: 0.0690 - categorical_accuracy: 0.9847 - val_loss: 0.6070 - val_categorical_accuracy: 0.8154\n",
      "Epoch 35/50\n",
      "1900/1900 [==============================] - 36s 19ms/step - loss: 0.0565 - categorical_accuracy: 0.9889 - val_loss: 0.6190 - val_categorical_accuracy: 0.7969\n",
      "Epoch 36/50\n",
      "1900/1900 [==============================] - 38s 20ms/step - loss: 0.0507 - categorical_accuracy: 0.9874 - val_loss: 0.6233 - val_categorical_accuracy: 0.8092\n",
      "Epoch 37/50\n",
      "1900/1900 [==============================] - 36s 19ms/step - loss: 0.0727 - categorical_accuracy: 0.9884 - val_loss: 0.7134 - val_categorical_accuracy: 0.7385\n",
      "Epoch 38/50\n",
      "1900/1900 [==============================] - 35s 19ms/step - loss: 0.0551 - categorical_accuracy: 0.9926 - val_loss: 0.6346 - val_categorical_accuracy: 0.8092\n",
      "Epoch 39/50\n",
      "1900/1900 [==============================] - 37s 19ms/step - loss: 0.0381 - categorical_accuracy: 0.9937 - val_loss: 0.6405 - val_categorical_accuracy: 0.8123\n",
      "Epoch 40/50\n",
      "1900/1900 [==============================] - 37s 20ms/step - loss: 0.0495 - categorical_accuracy: 0.9911 - val_loss: 0.6906 - val_categorical_accuracy: 0.7785\n",
      "Epoch 41/50\n",
      "1900/1900 [==============================] - 36s 19ms/step - loss: 0.0370 - categorical_accuracy: 0.9953 - val_loss: 0.6656 - val_categorical_accuracy: 0.7938\n",
      "Epoch 42/50\n",
      "1900/1900 [==============================] - 36s 19ms/step - loss: 0.0403 - categorical_accuracy: 0.9932 - val_loss: 0.6846 - val_categorical_accuracy: 0.8062\n",
      "Epoch 43/50\n",
      "1900/1900 [==============================] - 36s 19ms/step - loss: 0.0408 - categorical_accuracy: 0.9937 - val_loss: 0.7620 - val_categorical_accuracy: 0.7754\n",
      "Epoch 44/50\n",
      "1900/1900 [==============================] - 36s 19ms/step - loss: 0.0286 - categorical_accuracy: 0.9942 - val_loss: 0.7000 - val_categorical_accuracy: 0.7785\n",
      "Epoch 45/50\n",
      "1900/1900 [==============================] - 36s 19ms/step - loss: 0.0311 - categorical_accuracy: 0.9963 - val_loss: 0.7041 - val_categorical_accuracy: 0.7846\n",
      "Epoch 46/50\n",
      "1900/1900 [==============================] - 37s 19ms/step - loss: 0.0244 - categorical_accuracy: 0.9968 - val_loss: 0.8806 - val_categorical_accuracy: 0.7323\n",
      "Epoch 47/50\n"
     ]
    },
    {
     "name": "stdout",
     "output_type": "stream",
     "text": [
      "1900/1900 [==============================] - 38s 20ms/step - loss: 0.0287 - categorical_accuracy: 0.9958 - val_loss: 0.7246 - val_categorical_accuracy: 0.7600\n",
      "Epoch 48/50\n",
      "1900/1900 [==============================] - 37s 20ms/step - loss: 0.0343 - categorical_accuracy: 0.9942 - val_loss: 0.7033 - val_categorical_accuracy: 0.8062\n",
      "Epoch 49/50\n",
      "1900/1900 [==============================] - 37s 19ms/step - loss: 0.0152 - categorical_accuracy: 0.9989 - val_loss: 0.7171 - val_categorical_accuracy: 0.7969\n",
      "Epoch 50/50\n",
      "1900/1900 [==============================] - 37s 20ms/step - loss: 0.0107 - categorical_accuracy: 0.9979 - val_loss: 0.7338 - val_categorical_accuracy: 0.7846\n"
     ]
    }
   ],
   "source": [
    "history=model.fit(x_train,y_train, epochs=50, callbacks=callbacks_list, batch_size=32, validation_data=(x_val,y_val))"
   ]
  },
  {
   "cell_type": "markdown",
   "metadata": {},
   "source": [
    "# Plotting the results"
   ]
  },
  {
   "cell_type": "code",
   "execution_count": 5,
   "metadata": {},
   "outputs": [
    {
     "data": {
      "image/png": "[encoded data removed]",
      "text/plain": [
       "<Figure size 432x288 with 1 Axes>"
      ]
     },
     "metadata": {
      "needs_background": "light"
     },
     "output_type": "display_data"
    },
    {
     "data": {
      "image/png": "[encoded data removed]",
      "text/plain": [
       "<Figure size 432x288 with 1 Axes>"
      ]
     },
     "metadata": {
      "needs_background": "light"
     },
     "output_type": "display_data"
    }
   ],
   "source": [
    "import matplotlib.pyplot as plt\n",
    "%matplotlib inline\n",
    "\n",
    "acc=history.history['categorical_accuracy']\n",
    "val_acc=history.history['val_categorical_accuracy']\n",
    "loss=history.history['loss']\n",
    "val_loss=history.history['val_loss']\n",
    "epochs=range(1,len(acc)+1)\n",
    "plt.xlabel('Epochs')\n",
    "plt.ylabel('Accuracy')\n",
    "plt.plot(epochs, acc, 'bo', label='Training acc')\n",
    "plt.plot(epochs, val_acc, 'b', label='Validation acc')\n",
    "plt.title('Training and validation accuracy')\n",
    "plt.legend()\n",
    "plt.figure()\n",
    "\n",
    "plt.plot(epochs, loss, 'bo', label='Training loss')\n",
    "plt.plot(epochs, val_loss, 'b', label='Validation loss')\n",
    "plt.title('Training and validation loss')\n",
    "plt.xlabel('Epochs')\n",
    "plt.ylabel('Loss')\n",
    "plt.legend()\n",
    "plt.show()"
   ]
  },
  {
   "cell_type": "code",
   "execution_count": 6,
   "metadata": {},
   "outputs": [],
   "source": [
    "from tensorflow.python.keras.models import load_model\n",
    "\n",
    "best_model = load_model('BBC_Text_Document_Classification_using_Recurrent_Neural_Network_12th Experiment.h5')"
   ]
  },
  {
   "cell_type": "code",
   "execution_count": 7,
   "metadata": {},
   "outputs": [
    {
     "name": "stdout",
     "output_type": "stream",
     "text": [
      "10/10 [==============================] - 6s 573ms/step - loss: 0.5109 - categorical_accuracy: 0.8154\n",
      "Validation-set accuracy: 81.54%\n"
     ]
    }
   ],
   "source": [
    "from tensorflow.python.keras.models import load_model\n",
    "\n",
    "batch_size=32\n",
    "steps_test=int(len(x_val)/batch_size)\n",
    "result = best_model.evaluate(x_val, y_val, steps=steps_test,verbose=1)\n",
    "print(\"Validation-set accuracy: {0:.2%}\".format(result[1]))"
   ]
  },
  {
   "cell_type": "code",
   "execution_count": 8,
   "metadata": {},
   "outputs": [
    {
     "name": "stdout",
     "output_type": "stream",
     "text": [
      "325/325 [==============================] - 4s 14ms/sample\n",
      "(325, 1)\n",
      "(325, 1)\n"
     ]
    }
   ],
   "source": [
    "# Get predictions\n",
    "preds = best_model.predict(x_val, batch_size=16,verbose=1)\n",
    "preds=np.around(preds)\n",
    "\n",
    "orig_val_labels=np.argmax(y_val,axis=1)\n",
    "predicted_labels=np.argmax(preds,axis=1)\n",
    "\n",
    "orig_val_labels=np.reshape(orig_val_labels,(325,1))\n",
    "predicted_labels=np.reshape(predicted_labels,(325,1))\n",
    "\n",
    "print(predicted_labels.shape)\n",
    "print(orig_val_labels.shape)"
   ]
  },
  {
   "cell_type": "code",
   "execution_count": 9,
   "metadata": {},
   "outputs": [
    {
     "data": {
      "text/plain": [
       "<Figure size 432x288 with 0 Axes>"
      ]
     },
     "metadata": {},
     "output_type": "display_data"
    },
    {
     "data": {
      "image/png": "[encoded data removed]",
      "text/plain": [
       "<Figure size 1080x720 with 1 Axes>"
      ]
     },
     "metadata": {
      "needs_background": "light"
     },
     "output_type": "display_data"
    }
   ],
   "source": [
    "import matplotlib.pyplot as plt\n",
    "%matplotlib inline\n",
    "# Get the confusion matrix\n",
    "from sklearn.metrics import confusion_matrix\n",
    "from mlxtend.plotting import plot_confusion_matrix\n",
    "\n",
    "cm  = confusion_matrix(orig_val_labels, predicted_labels)\n",
    "plt.figure()\n",
    "plot_confusion_matrix(cm,figsize=(15,10), hide_ticks=True,cmap=plt.cm.Blues)\n",
    "plt.xticks(range(5), ['business', 'entertainment','politics','sport','tech'], fontsize=16)\n",
    "plt.yticks(range(5), ['business', 'entertainment','politics','sport','tech'], fontsize=16)\n",
    "plt.show()"
   ]
  }
 ],
 "metadata": {
  "kernelspec": {
   "display_name": "Python 3",
   "language": "python",
   "name": "python3"
  },
  "language_info": {
   "codemirror_mode": {
    "name": "ipython",
    "version": 3
   },
   "file_extension": ".py",
   "mimetype": "text/x-python",
   "name": "python",
   "nbconvert_exporter": "python",
   "pygments_lexer": "ipython3",
   "version": "3.6.8"
  }
 },
 "nbformat": 4,
 "nbformat_minor": 2
}
