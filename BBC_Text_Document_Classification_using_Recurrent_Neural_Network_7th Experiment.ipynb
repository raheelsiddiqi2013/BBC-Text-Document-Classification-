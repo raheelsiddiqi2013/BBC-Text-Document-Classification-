{
 "cells": [
  {
   "cell_type": "markdown",
   "metadata": {},
   "source": [
    "# Preprocessing the raw BBC Text Document Data"
   ]
  },
  {
   "cell_type": "code",
   "execution_count": 1,
   "metadata": {},
   "outputs": [],
   "source": [
    "import os\n",
    "\n",
    "bbc_dir='D:\\\\TensorFlow Programs\\\\Text Classification Programs and Datasets\\\\bbc'\n",
    "\n",
    "labels = []\n",
    "texts = []\n",
    "\n",
    "for label_type in ['business','entertainment','politics','sport','tech']:\n",
    "    dir_name=os.path.join(bbc_dir, label_type)\n",
    "    for fname in os.listdir(dir_name):\n",
    "        if fname[-4:]=='.txt':\n",
    "            f=open(os.path.join(dir_name,fname))\n",
    "            texts.append(f.read())\n",
    "            f.close()\n",
    "            if label_type=='business':\n",
    "                labels.append(0)\n",
    "            elif label_type=='entertainment':\n",
    "                labels.append(1)\n",
    "            elif label_type=='politics':\n",
    "                labels.append(2)\n",
    "            elif label_type=='sport':\n",
    "                labels.append(3)\n",
    "            elif label_type=='tech':\n",
    "                labels.append(4)"
   ]
  },
  {
   "cell_type": "markdown",
   "metadata": {},
   "source": [
    "# Tokenizing the data"
   ]
  },
  {
   "cell_type": "code",
   "execution_count": 2,
   "metadata": {},
   "outputs": [
    {
     "name": "stderr",
     "output_type": "stream",
     "text": [
      "Using TensorFlow backend.\n"
     ]
    },
    {
     "name": "stdout",
     "output_type": "stream",
     "text": [
      "Found 32360 unique tokens\n",
      "(2225, 5)\n",
      "Shape of data tensor: (2225, 400)\n",
      "Shape of label tensor: (2225, 5)\n"
     ]
    }
   ],
   "source": [
    "from keras.preprocessing.text import Tokenizer\n",
    "from keras.preprocessing.sequence import pad_sequences\n",
    "from keras.utils import to_categorical\n",
    "import numpy as np\n",
    "\n",
    "maxlen=400\n",
    "training_samples=1900\n",
    "validation_samples=len(texts)-training_samples\n",
    "max_words=30000\n",
    "\n",
    "tokenizer=Tokenizer(num_words=max_words)\n",
    "tokenizer.fit_on_texts(texts)\n",
    "sequences=tokenizer.texts_to_sequences(texts)\n",
    "word_index=tokenizer.word_index\n",
    "print('Found %s unique tokens'%len(word_index))\n",
    "\n",
    "data=pad_sequences(sequences, maxlen=maxlen)\n",
    "\n",
    "labels=np.asarray(labels)\n",
    "labels=to_categorical(labels,num_classes=5)\n",
    "print(labels.shape)\n",
    "print('Shape of data tensor:',data.shape)\n",
    "print('Shape of label tensor:',labels.shape)\n",
    "\n",
    "indices=np.arange(data.shape[0])\n",
    "np.random.shuffle(indices)\n",
    "data=data[indices]\n",
    "labels=labels[indices]\n",
    "      \n",
    "x_train=data[:training_samples]\n",
    "y_train=labels[:training_samples]\n",
    "x_val=data[training_samples:training_samples+validation_samples]\n",
    "y_val=labels[training_samples:training_samples+validation_samples]"
   ]
  },
  {
   "cell_type": "markdown",
   "metadata": {},
   "source": [
    "# Defining a model"
   ]
  },
  {
   "cell_type": "code",
   "execution_count": 3,
   "metadata": {},
   "outputs": [
    {
     "name": "stdout",
     "output_type": "stream",
     "text": [
      "WARNING:tensorflow:From C:\\Users\\Raheel\\Anaconda3\\envs\\EnvName\\lib\\site-packages\\tensorflow\\python\\framework\\op_def_library.py:263: colocate_with (from tensorflow.python.framework.ops) is deprecated and will be removed in a future version.\n",
      "Instructions for updating:\n",
      "Colocations handled automatically by placer.\n",
      "_________________________________________________________________\n",
      "Layer (type)                 Output Shape              Param #   \n",
      "=================================================================\n",
      "embedding_1 (Embedding)      (None, None, 100)         3000000   \n",
      "_________________________________________________________________\n",
      "lstm_1 (LSTM)                (None, 32)                17024     \n",
      "_________________________________________________________________\n",
      "dense_1 (Dense)              (None, 5)                 165       \n",
      "=================================================================\n",
      "Total params: 3,017,189\n",
      "Trainable params: 3,017,189\n",
      "Non-trainable params: 0\n",
      "_________________________________________________________________\n"
     ]
    }
   ],
   "source": [
    "from keras.models import Sequential\n",
    "from keras.layers import Embedding, LSTM, Dense\n",
    "from keras import optimizers\n",
    "\n",
    "embedding_dim=100\n",
    "model=Sequential()\n",
    "model.add(Embedding(max_words,embedding_dim))\n",
    "model.add(LSTM(32))\n",
    "model.add(Dense(5, activation='softmax'))\n",
    "model.compile(loss='categorical_crossentropy',optimizer=optimizers.Adam(lr=1e-4),metrics=['categorical_accuracy'])\n",
    "model.summary()"
   ]
  },
  {
   "cell_type": "markdown",
   "metadata": {},
   "source": [
    "# Model Training"
   ]
  },
  {
   "cell_type": "code",
   "execution_count": 4,
   "metadata": {},
   "outputs": [
    {
     "name": "stdout",
     "output_type": "stream",
     "text": [
      "WARNING:tensorflow:From C:\\Users\\Raheel\\Anaconda3\\envs\\EnvName\\lib\\site-packages\\tensorflow\\python\\ops\\math_ops.py:3066: to_int32 (from tensorflow.python.ops.math_ops) is deprecated and will be removed in a future version.\n",
      "Instructions for updating:\n",
      "Use tf.cast instead.\n",
      "Train on 1900 samples, validate on 325 samples\n",
      "Epoch 1/50\n",
      "1900/1900 [==============================] - 39s 21ms/step - loss: 1.6082 - categorical_accuracy: 0.2200 - val_loss: 1.6053 - val_categorical_accuracy: 0.2954\n",
      "Epoch 2/50\n",
      "1900/1900 [==============================] - 34s 18ms/step - loss: 1.6029 - categorical_accuracy: 0.2826 - val_loss: 1.6012 - val_categorical_accuracy: 0.3138\n",
      "Epoch 3/50\n",
      "1900/1900 [==============================] - 34s 18ms/step - loss: 1.5958 - categorical_accuracy: 0.2753 - val_loss: 1.5949 - val_categorical_accuracy: 0.2677\n",
      "Epoch 4/50\n",
      "1900/1900 [==============================] - 34s 18ms/step - loss: 1.5820 - categorical_accuracy: 0.2447 - val_loss: 1.5727 - val_categorical_accuracy: 0.2369\n",
      "Epoch 5/50\n",
      "1900/1900 [==============================] - 34s 18ms/step - loss: 1.4362 - categorical_accuracy: 0.2647 - val_loss: 1.5065 - val_categorical_accuracy: 0.3169\n",
      "Epoch 6/50\n",
      "1900/1900 [==============================] - 34s 18ms/step - loss: 1.3709 - categorical_accuracy: 0.4679 - val_loss: 1.2745 - val_categorical_accuracy: 0.3938\n",
      "Epoch 7/50\n",
      "1900/1900 [==============================] - 34s 18ms/step - loss: 1.2327 - categorical_accuracy: 0.6205 - val_loss: 1.2044 - val_categorical_accuracy: 0.5077\n",
      "Epoch 8/50\n",
      "1900/1900 [==============================] - 33s 18ms/step - loss: 1.4015 - categorical_accuracy: 0.5958 - val_loss: 1.2468 - val_categorical_accuracy: 0.5908\n",
      "Epoch 9/50\n",
      "1900/1900 [==============================] - 33s 18ms/step - loss: 1.1862 - categorical_accuracy: 0.7932 - val_loss: 1.1689 - val_categorical_accuracy: 0.5415\n",
      "Epoch 10/50\n",
      "1900/1900 [==============================] - 34s 18ms/step - loss: 1.0774 - categorical_accuracy: 0.8421 - val_loss: 1.0094 - val_categorical_accuracy: 0.7631\n",
      "Epoch 11/50\n",
      "1900/1900 [==============================] - 33s 18ms/step - loss: 1.0723 - categorical_accuracy: 0.7747 - val_loss: 1.0754 - val_categorical_accuracy: 0.6708\n",
      "Epoch 12/50\n",
      "1900/1900 [==============================] - 33s 18ms/step - loss: 1.2505 - categorical_accuracy: 0.7116 - val_loss: 1.4568 - val_categorical_accuracy: 0.5200\n",
      "Epoch 13/50\n",
      "1900/1900 [==============================] - 33s 17ms/step - loss: 1.2580 - categorical_accuracy: 0.6532 - val_loss: 1.0069 - val_categorical_accuracy: 0.7323\n",
      "Epoch 14/50\n",
      "1900/1900 [==============================] - 33s 18ms/step - loss: 0.9820 - categorical_accuracy: 0.7926 - val_loss: 1.0495 - val_categorical_accuracy: 0.6677\n",
      "Epoch 15/50\n",
      "1900/1900 [==============================] - 33s 17ms/step - loss: 1.0364 - categorical_accuracy: 0.7237 - val_loss: 1.0347 - val_categorical_accuracy: 0.6615\n",
      "Epoch 16/50\n",
      "1900/1900 [==============================] - 33s 17ms/step - loss: 0.9302 - categorical_accuracy: 0.8005 - val_loss: 0.9440 - val_categorical_accuracy: 0.7015\n",
      "Epoch 17/50\n",
      "1900/1900 [==============================] - 33s 17ms/step - loss: 0.8869 - categorical_accuracy: 0.8247 - val_loss: 0.9338 - val_categorical_accuracy: 0.7015\n",
      "Epoch 18/50\n",
      "1900/1900 [==============================] - 33s 17ms/step - loss: 0.8692 - categorical_accuracy: 0.8237 - val_loss: 0.9554 - val_categorical_accuracy: 0.7015\n",
      "Epoch 19/50\n",
      "1900/1900 [==============================] - 33s 17ms/step - loss: 1.1692 - categorical_accuracy: 0.7158 - val_loss: 1.6869 - val_categorical_accuracy: 0.5231\n",
      "Epoch 20/50\n",
      "1900/1900 [==============================] - 33s 17ms/step - loss: 1.4252 - categorical_accuracy: 0.5184 - val_loss: 1.4330 - val_categorical_accuracy: 0.4185\n",
      "Epoch 21/50\n",
      "1900/1900 [==============================] - 33s 17ms/step - loss: 1.2729 - categorical_accuracy: 0.5537 - val_loss: 1.3575 - val_categorical_accuracy: 0.4708\n",
      "Epoch 22/50\n",
      "1900/1900 [==============================] - 33s 17ms/step - loss: 1.1774 - categorical_accuracy: 0.6442 - val_loss: 1.2119 - val_categorical_accuracy: 0.5415\n",
      "Epoch 23/50\n",
      "1900/1900 [==============================] - 33s 17ms/step - loss: 1.1027 - categorical_accuracy: 0.6558 - val_loss: 1.1634 - val_categorical_accuracy: 0.5662\n",
      "Epoch 24/50\n",
      "1900/1900 [==============================] - 34s 18ms/step - loss: 1.0187 - categorical_accuracy: 0.7395 - val_loss: 1.0409 - val_categorical_accuracy: 0.6462\n",
      "Epoch 25/50\n",
      "1900/1900 [==============================] - 33s 17ms/step - loss: 0.8934 - categorical_accuracy: 0.8553 - val_loss: 0.9354 - val_categorical_accuracy: 0.7323\n",
      "Epoch 26/50\n",
      "1900/1900 [==============================] - 33s 17ms/step - loss: 0.8517 - categorical_accuracy: 0.8753 - val_loss: 0.9170 - val_categorical_accuracy: 0.7292\n",
      "Epoch 27/50\n",
      "1900/1900 [==============================] - 33s 17ms/step - loss: 0.8387 - categorical_accuracy: 0.8763 - val_loss: 0.9265 - val_categorical_accuracy: 0.7169\n",
      "Epoch 28/50\n",
      "1900/1900 [==============================] - 33s 17ms/step - loss: 0.8707 - categorical_accuracy: 0.8342 - val_loss: 0.9872 - val_categorical_accuracy: 0.6585\n",
      "Epoch 29/50\n",
      "1900/1900 [==============================] - 33s 17ms/step - loss: 0.8217 - categorical_accuracy: 0.8763 - val_loss: 0.8649 - val_categorical_accuracy: 0.7415\n",
      "Epoch 30/50\n",
      "1900/1900 [==============================] - 33s 18ms/step - loss: 0.8057 - categorical_accuracy: 0.8847 - val_loss: 0.9023 - val_categorical_accuracy: 0.6985\n",
      "Epoch 31/50\n",
      "1900/1900 [==============================] - 33s 17ms/step - loss: 0.7844 - categorical_accuracy: 0.8963 - val_loss: 0.8491 - val_categorical_accuracy: 0.7354\n",
      "Epoch 32/50\n",
      "1900/1900 [==============================] - 33s 17ms/step - loss: 0.7699 - categorical_accuracy: 0.9016 - val_loss: 0.8342 - val_categorical_accuracy: 0.7415\n",
      "Epoch 33/50\n",
      "1900/1900 [==============================] - 33s 17ms/step - loss: 0.7585 - categorical_accuracy: 0.9111 - val_loss: 0.8275 - val_categorical_accuracy: 0.7446\n",
      "Epoch 34/50\n",
      "1900/1900 [==============================] - 33s 17ms/step - loss: 0.7478 - categorical_accuracy: 0.9126 - val_loss: 0.8176 - val_categorical_accuracy: 0.7477\n",
      "Epoch 35/50\n",
      "1900/1900 [==============================] - 33s 17ms/step - loss: 0.7526 - categorical_accuracy: 0.9147 - val_loss: 0.8086 - val_categorical_accuracy: 0.7508\n",
      "Epoch 36/50\n",
      "1900/1900 [==============================] - 33s 17ms/step - loss: 0.7410 - categorical_accuracy: 0.9195 - val_loss: 0.8058 - val_categorical_accuracy: 0.7415\n",
      "Epoch 37/50\n",
      "1900/1900 [==============================] - 33s 17ms/step - loss: 0.7267 - categorical_accuracy: 0.9247 - val_loss: 0.7967 - val_categorical_accuracy: 0.7446\n",
      "Epoch 38/50\n",
      "1900/1900 [==============================] - 33s 17ms/step - loss: 0.7154 - categorical_accuracy: 0.9279 - val_loss: 0.7964 - val_categorical_accuracy: 0.7446\n",
      "Epoch 39/50\n",
      "1900/1900 [==============================] - 33s 17ms/step - loss: 0.7075 - categorical_accuracy: 0.9289 - val_loss: 0.7999 - val_categorical_accuracy: 0.7446\n",
      "Epoch 40/50\n",
      "1900/1900 [==============================] - 33s 17ms/step - loss: 0.6994 - categorical_accuracy: 0.9353 - val_loss: 0.7788 - val_categorical_accuracy: 0.7569\n",
      "Epoch 41/50\n",
      "1900/1900 [==============================] - 33s 17ms/step - loss: 0.6947 - categorical_accuracy: 0.9395 - val_loss: 0.7798 - val_categorical_accuracy: 0.7538\n",
      "Epoch 42/50\n",
      "1900/1900 [==============================] - 33s 17ms/step - loss: 0.6865 - categorical_accuracy: 0.9432 - val_loss: 0.7827 - val_categorical_accuracy: 0.7538\n",
      "Epoch 43/50\n",
      "1900/1900 [==============================] - 33s 17ms/step - loss: 0.6732 - categorical_accuracy: 0.9484 - val_loss: 0.7800 - val_categorical_accuracy: 0.7631\n",
      "Epoch 44/50\n",
      "1900/1900 [==============================] - 33s 17ms/step - loss: 0.6617 - categorical_accuracy: 0.9516 - val_loss: 0.7873 - val_categorical_accuracy: 0.7569\n",
      "Epoch 45/50\n",
      "1900/1900 [==============================] - 33s 17ms/step - loss: 0.6525 - categorical_accuracy: 0.9553 - val_loss: 0.7693 - val_categorical_accuracy: 0.7662\n",
      "Epoch 46/50\n",
      "1900/1900 [==============================] - 33s 17ms/step - loss: 0.6727 - categorical_accuracy: 0.9479 - val_loss: 0.7510 - val_categorical_accuracy: 0.7785\n",
      "Epoch 47/50\n"
     ]
    },
    {
     "name": "stdout",
     "output_type": "stream",
     "text": [
      "1900/1900 [==============================] - 33s 17ms/step - loss: 0.9723 - categorical_accuracy: 0.8253 - val_loss: 1.2630 - val_categorical_accuracy: 0.5754\n",
      "Epoch 48/50\n",
      "1900/1900 [==============================] - 33s 17ms/step - loss: 0.9431 - categorical_accuracy: 0.7863 - val_loss: 0.8904 - val_categorical_accuracy: 0.6769\n",
      "Epoch 49/50\n",
      "1900/1900 [==============================] - 33s 17ms/step - loss: 0.7661 - categorical_accuracy: 0.8721 - val_loss: 0.7979 - val_categorical_accuracy: 0.7446\n",
      "Epoch 50/50\n",
      "1900/1900 [==============================] - 33s 17ms/step - loss: 0.7628 - categorical_accuracy: 0.9021 - val_loss: 0.9301 - val_categorical_accuracy: 0.7077\n"
     ]
    }
   ],
   "source": [
    "history=model.fit(x_train,y_train, epochs=50, batch_size=32, validation_data=(x_val,y_val))"
   ]
  },
  {
   "cell_type": "markdown",
   "metadata": {},
   "source": [
    "# Plotting the results"
   ]
  },
  {
   "cell_type": "code",
   "execution_count": 5,
   "metadata": {},
   "outputs": [
    {
     "data": {
      "image/png": "[encoded data removed]",
      "text/plain": [
       "<Figure size 432x288 with 1 Axes>"
      ]
     },
     "metadata": {
      "needs_background": "light"
     },
     "output_type": "display_data"
    },
    {
     "data": {
      "image/png": "[encoded data removed]",
      "text/plain": [
       "<Figure size 432x288 with 1 Axes>"
      ]
     },
     "metadata": {
      "needs_background": "light"
     },
     "output_type": "display_data"
    }
   ],
   "source": [
    "import matplotlib.pyplot as plt\n",
    "%matplotlib inline\n",
    "\n",
    "acc=history.history['categorical_accuracy']\n",
    "val_acc=history.history['val_categorical_accuracy']\n",
    "loss=history.history['loss']\n",
    "val_loss=history.history['val_loss']\n",
    "epochs=range(1,len(acc)+1)\n",
    "plt.xlabel('Epochs')\n",
    "plt.ylabel('Accuracy')\n",
    "plt.plot(epochs, acc, 'bo', label='Training acc')\n",
    "plt.plot(epochs, val_acc, 'b', label='Validation acc')\n",
    "plt.title('Training and validation accuracy')\n",
    "plt.legend()\n",
    "plt.figure()\n",
    "\n",
    "plt.plot(epochs, loss, 'bo', label='Training loss')\n",
    "plt.plot(epochs, val_loss, 'b', label='Validation loss')\n",
    "plt.title('Training and validation loss')\n",
    "plt.xlabel('Epochs')\n",
    "plt.ylabel('Loss')\n",
    "plt.legend()\n",
    "plt.show()"
   ]
  }
 ],
 "metadata": {
  "kernelspec": {
   "display_name": "Python 3",
   "language": "python",
   "name": "python3"
  },
  "language_info": {
   "codemirror_mode": {
    "name": "ipython",
    "version": 3
   },
   "file_extension": ".py",
   "mimetype": "text/x-python",
   "name": "python",
   "nbconvert_exporter": "python",
   "pygments_lexer": "ipython3",
   "version": "3.6.8"
  }
 },
 "nbformat": 4,
 "nbformat_minor": 2
}
