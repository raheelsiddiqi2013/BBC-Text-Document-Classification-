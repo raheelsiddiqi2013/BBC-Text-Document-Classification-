{
 "cells": [
  {
   "cell_type": "markdown",
   "metadata": {},
   "source": [
    "# Preprocessing the raw BBC Text Document Data"
   ]
  },
  {
   "cell_type": "code",
   "execution_count": 1,
   "metadata": {},
   "outputs": [],
   "source": [
    "import os\n",
    "\n",
    "bbc_dir='D:\\\\TensorFlow Programs\\\\Text Classification Programs and Datasets\\\\bbc'\n",
    "\n",
    "labels = []\n",
    "texts = []\n",
    "\n",
    "for label_type in ['business','entertainment','politics','sport','tech']:\n",
    "    dir_name=os.path.join(bbc_dir, label_type)\n",
    "    for fname in os.listdir(dir_name):\n",
    "        if fname[-4:]=='.txt':\n",
    "            f=open(os.path.join(dir_name,fname))\n",
    "            texts.append(f.read())\n",
    "            f.close()\n",
    "            if label_type=='business':\n",
    "                labels.append(0)\n",
    "            elif label_type=='entertainment':\n",
    "                labels.append(1)\n",
    "            elif label_type=='politics':\n",
    "                labels.append(2)\n",
    "            elif label_type=='sport':\n",
    "                labels.append(3)\n",
    "            elif label_type=='tech':\n",
    "                labels.append(4)"
   ]
  },
  {
   "cell_type": "markdown",
   "metadata": {},
   "source": [
    "# Tokenizing the data"
   ]
  },
  {
   "cell_type": "code",
   "execution_count": 2,
   "metadata": {},
   "outputs": [
    {
     "name": "stderr",
     "output_type": "stream",
     "text": [
      "Using TensorFlow backend.\n"
     ]
    },
    {
     "name": "stdout",
     "output_type": "stream",
     "text": [
      "Found 32360 unique tokens\n",
      "(2225, 5)\n",
      "Shape of data tensor: (2225, 400)\n",
      "Shape of label tensor: (2225, 5)\n"
     ]
    }
   ],
   "source": [
    "from keras.preprocessing.text import Tokenizer\n",
    "from keras.preprocessing.sequence import pad_sequences\n",
    "from keras.utils import to_categorical\n",
    "import numpy as np\n",
    "\n",
    "maxlen=400\n",
    "training_samples=1900\n",
    "validation_samples=len(texts)-training_samples\n",
    "max_words=30000\n",
    "\n",
    "tokenizer=Tokenizer(num_words=max_words)\n",
    "tokenizer.fit_on_texts(texts)\n",
    "sequences=tokenizer.texts_to_sequences(texts)\n",
    "word_index=tokenizer.word_index\n",
    "print('Found %s unique tokens'%len(word_index))\n",
    "\n",
    "data=pad_sequences(sequences, maxlen=maxlen)\n",
    "\n",
    "labels=np.asarray(labels)\n",
    "labels=to_categorical(labels,num_classes=5)\n",
    "print(labels.shape)\n",
    "print('Shape of data tensor:',data.shape)\n",
    "print('Shape of label tensor:',labels.shape)\n",
    "\n",
    "indices=np.arange(data.shape[0])\n",
    "np.random.shuffle(indices)\n",
    "data=data[indices]\n",
    "labels=labels[indices]\n",
    "      \n",
    "x_train=data[:training_samples]\n",
    "y_train=labels[:training_samples]\n",
    "x_val=data[training_samples:training_samples+validation_samples]\n",
    "y_val=labels[training_samples:training_samples+validation_samples]"
   ]
  },
  {
   "cell_type": "markdown",
   "metadata": {},
   "source": [
    "# Defining a model"
   ]
  },
  {
   "cell_type": "code",
   "execution_count": 4,
   "metadata": {},
   "outputs": [
    {
     "name": "stdout",
     "output_type": "stream",
     "text": [
      "_________________________________________________________________\n",
      "Layer (type)                 Output Shape              Param #   \n",
      "=================================================================\n",
      "embedding_2 (Embedding)      (None, None, 100)         3000000   \n",
      "_________________________________________________________________\n",
      "lstm_2 (LSTM)                (None, 512)               1255424   \n",
      "_________________________________________________________________\n",
      "dense_2 (Dense)              (None, 5)                 2565      \n",
      "=================================================================\n",
      "Total params: 4,257,989\n",
      "Trainable params: 4,257,989\n",
      "Non-trainable params: 0\n",
      "_________________________________________________________________\n"
     ]
    }
   ],
   "source": [
    "from keras.models import Sequential\n",
    "from keras.layers import Embedding, LSTM, Dense\n",
    "from keras import optimizers\n",
    "from keras.callbacks import ModelCheckpoint\n",
    "\n",
    "embedding_dim=100\n",
    "model=Sequential()\n",
    "model.add(Embedding(max_words,embedding_dim))\n",
    "model.add(LSTM(512))\n",
    "model.add(Dense(5, activation='softmax'))\n",
    "model.compile(loss='categorical_crossentropy',optimizer=optimizers.Adam(lr=1e-4),metrics=['categorical_accuracy'])\n",
    "model.summary()\n",
    "filepath=\"BBC_Text_Document_Classification_using_Recurrent_Neural_Network_10th Experiment.h5\"\n",
    "checkpoint = ModelCheckpoint(filepath, save_best_only=True)\n",
    "callbacks_list = [checkpoint]"
   ]
  },
  {
   "cell_type": "markdown",
   "metadata": {},
   "source": [
    "# Model Training"
   ]
  },
  {
   "cell_type": "code",
   "execution_count": 5,
   "metadata": {},
   "outputs": [
    {
     "name": "stdout",
     "output_type": "stream",
     "text": [
      "WARNING:tensorflow:From C:\\Users\\Raheel\\Anaconda3\\envs\\EnvName\\lib\\site-packages\\tensorflow\\python\\ops\\math_ops.py:3066: to_int32 (from tensorflow.python.ops.math_ops) is deprecated and will be removed in a future version.\n",
      "Instructions for updating:\n",
      "Use tf.cast instead.\n",
      "Train on 1900 samples, validate on 325 samples\n",
      "Epoch 1/50\n",
      "1900/1900 [==============================] - 37s 19ms/step - loss: 1.6065 - categorical_accuracy: 0.2574 - val_loss: 1.6036 - val_categorical_accuracy: 0.2831\n",
      "Epoch 2/50\n",
      "1900/1900 [==============================] - 32s 17ms/step - loss: 1.5940 - categorical_accuracy: 0.3047 - val_loss: 1.5895 - val_categorical_accuracy: 0.2308\n",
      "Epoch 3/50\n",
      "1900/1900 [==============================] - 32s 17ms/step - loss: 1.5660 - categorical_accuracy: 0.3474 - val_loss: 1.5724 - val_categorical_accuracy: 0.4062\n",
      "Epoch 4/50\n",
      "1900/1900 [==============================] - 32s 17ms/step - loss: 1.5491 - categorical_accuracy: 0.4953 - val_loss: 1.5582 - val_categorical_accuracy: 0.4000\n",
      "Epoch 5/50\n",
      "1900/1900 [==============================] - 32s 17ms/step - loss: 1.5080 - categorical_accuracy: 0.4889 - val_loss: 1.5067 - val_categorical_accuracy: 0.4369\n",
      "Epoch 6/50\n",
      "1900/1900 [==============================] - 32s 17ms/step - loss: 1.1964 - categorical_accuracy: 0.4847 - val_loss: 1.0863 - val_categorical_accuracy: 0.4615\n",
      "Epoch 7/50\n",
      "1900/1900 [==============================] - 38s 20ms/step - loss: 0.8717 - categorical_accuracy: 0.6311 - val_loss: 0.8798 - val_categorical_accuracy: 0.6831\n",
      "Epoch 8/50\n",
      "1900/1900 [==============================] - 59s 31ms/step - loss: 0.7700 - categorical_accuracy: 0.7468 - val_loss: 0.8101 - val_categorical_accuracy: 0.6615\n",
      "Epoch 9/50\n",
      "1900/1900 [==============================] - 65s 34ms/step - loss: 0.7206 - categorical_accuracy: 0.7700 - val_loss: 0.7532 - val_categorical_accuracy: 0.6708\n",
      "Epoch 10/50\n",
      "1900/1900 [==============================] - 63s 33ms/step - loss: 0.5440 - categorical_accuracy: 0.8658 - val_loss: 1.3263 - val_categorical_accuracy: 0.4738\n",
      "Epoch 11/50\n",
      "1900/1900 [==============================] - 66s 35ms/step - loss: 0.6357 - categorical_accuracy: 0.8579 - val_loss: 1.5001 - val_categorical_accuracy: 0.4246\n",
      "Epoch 12/50\n",
      "1900/1900 [==============================] - 66s 35ms/step - loss: 1.1296 - categorical_accuracy: 0.5674 - val_loss: 1.0709 - val_categorical_accuracy: 0.5754\n",
      "Epoch 13/50\n",
      "1900/1900 [==============================] - 62s 33ms/step - loss: 0.8834 - categorical_accuracy: 0.7032 - val_loss: 0.9821 - val_categorical_accuracy: 0.5631\n",
      "Epoch 14/50\n",
      "1900/1900 [==============================] - 63s 33ms/step - loss: 0.7079 - categorical_accuracy: 0.8089 - val_loss: 0.8278 - val_categorical_accuracy: 0.7415\n",
      "Epoch 15/50\n",
      "1900/1900 [==============================] - 73s 38ms/step - loss: 0.7184 - categorical_accuracy: 0.7758 - val_loss: 1.0558 - val_categorical_accuracy: 0.6492\n",
      "Epoch 16/50\n",
      "1900/1900 [==============================] - 57s 30ms/step - loss: 1.2624 - categorical_accuracy: 0.6958 - val_loss: 1.0095 - val_categorical_accuracy: 0.7631\n",
      "Epoch 17/50\n",
      "1900/1900 [==============================] - 62s 33ms/step - loss: 0.4482 - categorical_accuracy: 0.9337 - val_loss: 0.5072 - val_categorical_accuracy: 0.8800\n",
      "Epoch 18/50\n",
      "1900/1900 [==============================] - 68s 36ms/step - loss: 0.4107 - categorical_accuracy: 0.9068 - val_loss: 0.8712 - val_categorical_accuracy: 0.6646\n",
      "Epoch 19/50\n",
      "1900/1900 [==============================] - 65s 34ms/step - loss: 0.4556 - categorical_accuracy: 0.9126 - val_loss: 1.1688 - val_categorical_accuracy: 0.6369\n",
      "Epoch 20/50\n",
      "1900/1900 [==============================] - 60s 31ms/step - loss: 0.4165 - categorical_accuracy: 0.9321 - val_loss: 0.4925 - val_categorical_accuracy: 0.8800\n",
      "Epoch 21/50\n",
      "1900/1900 [==============================] - 64s 33ms/step - loss: 0.2228 - categorical_accuracy: 0.9663 - val_loss: 0.4743 - val_categorical_accuracy: 0.8738\n",
      "Epoch 22/50\n",
      "1900/1900 [==============================] - 66s 35ms/step - loss: 0.1083 - categorical_accuracy: 0.9832 - val_loss: 0.3510 - val_categorical_accuracy: 0.9292\n",
      "Epoch 23/50\n",
      "1900/1900 [==============================] - 64s 34ms/step - loss: 0.1130 - categorical_accuracy: 0.9768 - val_loss: 0.4999 - val_categorical_accuracy: 0.8585\n",
      "Epoch 24/50\n",
      "1900/1900 [==============================] - 55s 29ms/step - loss: 0.0926 - categorical_accuracy: 0.9832 - val_loss: 0.3415 - val_categorical_accuracy: 0.9262\n",
      "Epoch 25/50\n",
      "1900/1900 [==============================] - 39s 21ms/step - loss: 0.0461 - categorical_accuracy: 0.9932 - val_loss: 0.3199 - val_categorical_accuracy: 0.9262\n",
      "Epoch 26/50\n",
      "1900/1900 [==============================] - 61s 32ms/step - loss: 0.0462 - categorical_accuracy: 0.9900 - val_loss: 0.2706 - val_categorical_accuracy: 0.9323\n",
      "Epoch 27/50\n",
      "1900/1900 [==============================] - 67s 35ms/step - loss: 0.0447 - categorical_accuracy: 0.9889 - val_loss: 0.3699 - val_categorical_accuracy: 0.8892\n",
      "Epoch 28/50\n",
      "1900/1900 [==============================] - 67s 35ms/step - loss: 0.0484 - categorical_accuracy: 0.9916 - val_loss: 0.3021 - val_categorical_accuracy: 0.9262\n",
      "Epoch 29/50\n",
      "1900/1900 [==============================] - 66s 35ms/step - loss: 0.0631 - categorical_accuracy: 0.9863 - val_loss: 0.5053 - val_categorical_accuracy: 0.8400\n",
      "Epoch 30/50\n",
      "1900/1900 [==============================] - 64s 33ms/step - loss: 0.0524 - categorical_accuracy: 0.9958 - val_loss: 0.3963 - val_categorical_accuracy: 0.9138\n",
      "Epoch 31/50\n",
      "1900/1900 [==============================] - 62s 32ms/step - loss: 0.1200 - categorical_accuracy: 0.9837 - val_loss: 0.3475 - val_categorical_accuracy: 0.8985\n",
      "Epoch 32/50\n",
      "1900/1900 [==============================] - 63s 33ms/step - loss: 0.0130 - categorical_accuracy: 0.9989 - val_loss: 0.2842 - val_categorical_accuracy: 0.9292\n",
      "Epoch 33/50\n",
      "1900/1900 [==============================] - 66s 35ms/step - loss: 0.0235 - categorical_accuracy: 0.9953 - val_loss: 0.3173 - val_categorical_accuracy: 0.9169\n",
      "Epoch 34/50\n",
      "1900/1900 [==============================] - 62s 33ms/step - loss: 0.0169 - categorical_accuracy: 0.9979 - val_loss: 0.3450 - val_categorical_accuracy: 0.9077\n",
      "Epoch 35/50\n",
      "1900/1900 [==============================] - 62s 33ms/step - loss: 0.0120 - categorical_accuracy: 0.9974 - val_loss: 0.2866 - val_categorical_accuracy: 0.9169\n",
      "Epoch 36/50\n",
      "1900/1900 [==============================] - 63s 33ms/step - loss: 0.0850 - categorical_accuracy: 0.9779 - val_loss: 1.0202 - val_categorical_accuracy: 0.6369\n",
      "Epoch 37/50\n",
      "1900/1900 [==============================] - 66s 35ms/step - loss: 0.6457 - categorical_accuracy: 0.8021 - val_loss: 0.7358 - val_categorical_accuracy: 0.7662\n",
      "Epoch 38/50\n",
      "1900/1900 [==============================] - 58s 31ms/step - loss: 0.2632 - categorical_accuracy: 0.9568 - val_loss: 0.4293 - val_categorical_accuracy: 0.8708\n",
      "Epoch 39/50\n",
      "1900/1900 [==============================] - 61s 32ms/step - loss: 0.0780 - categorical_accuracy: 0.9900 - val_loss: 0.2926 - val_categorical_accuracy: 0.9077\n",
      "Epoch 40/50\n",
      "1900/1900 [==============================] - 59s 31ms/step - loss: 0.1347 - categorical_accuracy: 0.9774 - val_loss: 0.6669 - val_categorical_accuracy: 0.7815\n",
      "Epoch 41/50\n",
      "1900/1900 [==============================] - 32s 17ms/step - loss: 0.1584 - categorical_accuracy: 0.9674 - val_loss: 0.2724 - val_categorical_accuracy: 0.9231\n",
      "Epoch 42/50\n",
      "1900/1900 [==============================] - 32s 17ms/step - loss: 0.0161 - categorical_accuracy: 0.9963 - val_loss: 0.2189 - val_categorical_accuracy: 0.9415\n",
      "Epoch 43/50\n",
      "1900/1900 [==============================] - 32s 17ms/step - loss: 0.0062 - categorical_accuracy: 0.9989 - val_loss: 0.2442 - val_categorical_accuracy: 0.9385\n",
      "Epoch 44/50\n",
      "1900/1900 [==============================] - 33s 17ms/step - loss: 0.0091 - categorical_accuracy: 0.9984 - val_loss: 0.2696 - val_categorical_accuracy: 0.9323\n",
      "Epoch 45/50\n",
      "1900/1900 [==============================] - 32s 17ms/step - loss: 0.0102 - categorical_accuracy: 0.9984 - val_loss: 0.3059 - val_categorical_accuracy: 0.9077\n",
      "Epoch 46/50\n",
      "1900/1900 [==============================] - 32s 17ms/step - loss: 0.0092 - categorical_accuracy: 0.9995 - val_loss: 0.2255 - val_categorical_accuracy: 0.9538\n",
      "Epoch 47/50\n"
     ]
    },
    {
     "name": "stdout",
     "output_type": "stream",
     "text": [
      "1900/1900 [==============================] - 34s 18ms/step - loss: 0.0041 - categorical_accuracy: 0.9995 - val_loss: 0.1860 - val_categorical_accuracy: 0.9600\n",
      "Epoch 48/50\n",
      "1900/1900 [==============================] - 33s 17ms/step - loss: 0.0952 - categorical_accuracy: 0.9895 - val_loss: 0.3440 - val_categorical_accuracy: 0.9046\n",
      "Epoch 49/50\n",
      "1900/1900 [==============================] - 32s 17ms/step - loss: 0.0394 - categorical_accuracy: 0.9989 - val_loss: 0.2373 - val_categorical_accuracy: 0.9477\n",
      "Epoch 50/50\n",
      "1900/1900 [==============================] - 32s 17ms/step - loss: 0.0126 - categorical_accuracy: 0.9984 - val_loss: 0.6190 - val_categorical_accuracy: 0.7938\n"
     ]
    }
   ],
   "source": [
    "history=model.fit(x_train,y_train, epochs=50, callbacks=callbacks_list, batch_size=32, validation_data=(x_val,y_val))"
   ]
  },
  {
   "cell_type": "markdown",
   "metadata": {},
   "source": [
    "# Plotting the results"
   ]
  },
  {
   "cell_type": "code",
   "execution_count": 6,
   "metadata": {},
   "outputs": [
    {
     "data": {
      "image/png": "[encoded data removed]",
      "text/plain": [
       "<Figure size 432x288 with 1 Axes>"
      ]
     },
     "metadata": {
      "needs_background": "light"
     },
     "output_type": "display_data"
    },
    {
     "data": {
      "image/png": "[encoded data removed]",
      "text/plain": [
       "<Figure size 432x288 with 1 Axes>"
      ]
     },
     "metadata": {
      "needs_background": "light"
     },
     "output_type": "display_data"
    }
   ],
   "source": [
    "import matplotlib.pyplot as plt\n",
    "%matplotlib inline\n",
    "\n",
    "acc=history.history['categorical_accuracy']\n",
    "val_acc=history.history['val_categorical_accuracy']\n",
    "loss=history.history['loss']\n",
    "val_loss=history.history['val_loss']\n",
    "epochs=range(1,len(acc)+1)\n",
    "plt.xlabel('Epochs')\n",
    "plt.ylabel('Accuracy')\n",
    "plt.plot(epochs, acc, 'bo', label='Training acc')\n",
    "plt.plot(epochs, val_acc, 'b', label='Validation acc')\n",
    "plt.title('Training and validation accuracy')\n",
    "plt.legend()\n",
    "plt.figure()\n",
    "\n",
    "plt.plot(epochs, loss, 'bo', label='Training loss')\n",
    "plt.plot(epochs, val_loss, 'b', label='Validation loss')\n",
    "plt.title('Training and validation loss')\n",
    "plt.xlabel('Epochs')\n",
    "plt.ylabel('Loss')\n",
    "plt.legend()\n",
    "plt.show()"
   ]
  },
  {
   "cell_type": "code",
   "execution_count": 7,
   "metadata": {},
   "outputs": [],
   "source": [
    "from tensorflow.python.keras.models import load_model\n",
    "\n",
    "best_model = load_model('BBC_Text_Document_Classification_using_Recurrent_Neural_Network_10th Experiment.h5')"
   ]
  },
  {
   "cell_type": "code",
   "execution_count": 8,
   "metadata": {},
   "outputs": [
    {
     "name": "stdout",
     "output_type": "stream",
     "text": [
      "10/10 [==============================] - 5s 485ms/step - loss: 0.1860 - categorical_accuracy: 0.9600\n",
      "Validation-set accuracy: 96.00%\n"
     ]
    }
   ],
   "source": [
    "from tensorflow.python.keras.models import load_model\n",
    "\n",
    "batch_size=32\n",
    "steps_test=int(len(x_val)/batch_size)\n",
    "result = best_model.evaluate(x_val, y_val, steps=steps_test,verbose=1)\n",
    "print(\"Validation-set accuracy: {0:.2%}\".format(result[1]))"
   ]
  },
  {
   "cell_type": "code",
   "execution_count": 16,
   "metadata": {},
   "outputs": [
    {
     "name": "stdout",
     "output_type": "stream",
     "text": [
      "325/325 [==============================] - 4s 12ms/sample\n",
      "(325, 1)\n",
      "(325, 1)\n"
     ]
    }
   ],
   "source": [
    "# Get predictions\n",
    "preds = best_model.predict(x_val, batch_size=16,verbose=1)\n",
    "preds=np.around(preds)\n",
    "\n",
    "orig_val_labels=np.argmax(y_val,axis=1)\n",
    "predicted_labels=np.argmax(preds,axis=1)\n",
    "\n",
    "orig_val_labels=np.reshape(orig_val_labels,(325,1))\n",
    "predicted_labels=np.reshape(predicted_labels,(325,1))\n",
    "\n",
    "print(predicted_labels.shape)\n",
    "print(orig_val_labels.shape)"
   ]
  },
  {
   "cell_type": "code",
   "execution_count": 17,
   "metadata": {},
   "outputs": [
    {
     "data": {
      "text/plain": [
       "<Figure size 432x288 with 0 Axes>"
      ]
     },
     "metadata": {},
     "output_type": "display_data"
    },
    {
     "data": {
      "image/png": "[encoded data removed]",
      "text/plain": [
       "<Figure size 1080x720 with 1 Axes>"
      ]
     },
     "metadata": {
      "needs_background": "light"
     },
     "output_type": "display_data"
    }
   ],
   "source": [
    "import matplotlib.pyplot as plt\n",
    "%matplotlib inline\n",
    "# Get the confusion matrix\n",
    "from sklearn.metrics import confusion_matrix\n",
    "from mlxtend.plotting import plot_confusion_matrix\n",
    "\n",
    "cm  = confusion_matrix(orig_val_labels, predicted_labels)\n",
    "plt.figure()\n",
    "plot_confusion_matrix(cm,figsize=(15,10), hide_ticks=True,cmap=plt.cm.Blues)\n",
    "plt.xticks(range(5), ['business', 'entertainment','politics','sport','tech'], fontsize=16)\n",
    "plt.yticks(range(5), ['business', 'entertainment','politics','sport','tech'], fontsize=16)\n",
    "plt.show()"
   ]
  }
 ],
 "metadata": {
  "kernelspec": {
   "display_name": "Python 3",
   "language": "python",
   "name": "python3"
  },
  "language_info": {
   "codemirror_mode": {
    "name": "ipython",
    "version": 3
   },
   "file_extension": ".py",
   "mimetype": "text/x-python",
   "name": "python",
   "nbconvert_exporter": "python",
   "pygments_lexer": "ipython3",
   "version": "3.6.8"
  }
 },
 "nbformat": 4,
 "nbformat_minor": 2
}
