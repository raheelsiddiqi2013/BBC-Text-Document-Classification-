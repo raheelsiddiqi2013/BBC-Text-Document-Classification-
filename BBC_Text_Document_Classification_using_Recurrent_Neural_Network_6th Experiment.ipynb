{
 "cells": [
  {
   "cell_type": "markdown",
   "metadata": {},
   "source": [
    "# Preprocessing the raw BBC Text Document Data"
   ]
  },
  {
   "cell_type": "code",
   "execution_count": 1,
   "metadata": {},
   "outputs": [],
   "source": [
    "import os\n",
    "\n",
    "bbc_dir='D:\\\\TensorFlow Programs\\\\Text Classification Programs and Datasets\\\\bbc'\n",
    "\n",
    "labels = []\n",
    "texts = []\n",
    "\n",
    "for label_type in ['business','entertainment','politics','sport','tech']:\n",
    "    dir_name=os.path.join(bbc_dir, label_type)\n",
    "    for fname in os.listdir(dir_name):\n",
    "        if fname[-4:]=='.txt':\n",
    "            f=open(os.path.join(dir_name,fname))\n",
    "            texts.append(f.read())\n",
    "            f.close()\n",
    "            if label_type=='business':\n",
    "                labels.append(0)\n",
    "            elif label_type=='entertainment':\n",
    "                labels.append(1)\n",
    "            elif label_type=='politics':\n",
    "                labels.append(2)\n",
    "            elif label_type=='sport':\n",
    "                labels.append(3)\n",
    "            elif label_type=='tech':\n",
    "                labels.append(4)"
   ]
  },
  {
   "cell_type": "markdown",
   "metadata": {},
   "source": [
    "# Tokenizing the data"
   ]
  },
  {
   "cell_type": "code",
   "execution_count": 2,
   "metadata": {},
   "outputs": [
    {
     "name": "stderr",
     "output_type": "stream",
     "text": [
      "Using TensorFlow backend.\n"
     ]
    },
    {
     "name": "stdout",
     "output_type": "stream",
     "text": [
      "Found 32360 unique tokens\n",
      "(2225, 5)\n",
      "Shape of data tensor: (2225, 400)\n",
      "Shape of label tensor: (2225, 5)\n"
     ]
    }
   ],
   "source": [
    "from keras.preprocessing.text import Tokenizer\n",
    "from keras.preprocessing.sequence import pad_sequences\n",
    "from keras.utils import to_categorical\n",
    "import numpy as np\n",
    "\n",
    "maxlen=400\n",
    "training_samples=1900\n",
    "validation_samples=len(texts)-training_samples\n",
    "max_words=30000\n",
    "\n",
    "tokenizer=Tokenizer(num_words=max_words)\n",
    "tokenizer.fit_on_texts(texts)\n",
    "sequences=tokenizer.texts_to_sequences(texts)\n",
    "word_index=tokenizer.word_index\n",
    "print('Found %s unique tokens'%len(word_index))\n",
    "\n",
    "data=pad_sequences(sequences, maxlen=maxlen)\n",
    "\n",
    "labels=np.asarray(labels)\n",
    "labels=to_categorical(labels,num_classes=5)\n",
    "print(labels.shape)\n",
    "print('Shape of data tensor:',data.shape)\n",
    "print('Shape of label tensor:',labels.shape)\n",
    "\n",
    "indices=np.arange(data.shape[0])\n",
    "np.random.shuffle(indices)\n",
    "data=data[indices]\n",
    "labels=labels[indices]\n",
    "      \n",
    "x_train=data[:training_samples]\n",
    "y_train=labels[:training_samples]\n",
    "x_val=data[training_samples:training_samples+validation_samples]\n",
    "y_val=labels[training_samples:training_samples+validation_samples]"
   ]
  },
  {
   "cell_type": "markdown",
   "metadata": {},
   "source": [
    "# Defining a model"
   ]
  },
  {
   "cell_type": "code",
   "execution_count": 3,
   "metadata": {},
   "outputs": [
    {
     "name": "stdout",
     "output_type": "stream",
     "text": [
      "WARNING:tensorflow:From C:\\Users\\Raheel\\Anaconda3\\envs\\EnvName\\lib\\site-packages\\tensorflow\\python\\framework\\op_def_library.py:263: colocate_with (from tensorflow.python.framework.ops) is deprecated and will be removed in a future version.\n",
      "Instructions for updating:\n",
      "Colocations handled automatically by placer.\n",
      "_________________________________________________________________\n",
      "Layer (type)                 Output Shape              Param #   \n",
      "=================================================================\n",
      "embedding_1 (Embedding)      (None, None, 100)         3000000   \n",
      "_________________________________________________________________\n",
      "lstm_1 (LSTM)                (None, 64)                42240     \n",
      "_________________________________________________________________\n",
      "dense_1 (Dense)              (None, 5)                 325       \n",
      "=================================================================\n",
      "Total params: 3,042,565\n",
      "Trainable params: 3,042,565\n",
      "Non-trainable params: 0\n",
      "_________________________________________________________________\n"
     ]
    }
   ],
   "source": [
    "from keras.models import Sequential\n",
    "from keras.layers import Embedding, LSTM, Dense\n",
    "from keras import optimizers\n",
    "\n",
    "embedding_dim=100\n",
    "model=Sequential()\n",
    "model.add(Embedding(max_words,embedding_dim))\n",
    "model.add(LSTM(64))\n",
    "model.add(Dense(5, activation='softmax'))\n",
    "model.compile(loss='categorical_crossentropy',optimizer=optimizers.Adam(lr=1e-4),metrics=['categorical_accuracy'])\n",
    "model.summary()"
   ]
  },
  {
   "cell_type": "markdown",
   "metadata": {},
   "source": [
    "# Model Training"
   ]
  },
  {
   "cell_type": "code",
   "execution_count": 4,
   "metadata": {},
   "outputs": [
    {
     "name": "stdout",
     "output_type": "stream",
     "text": [
      "WARNING:tensorflow:From C:\\Users\\Raheel\\Anaconda3\\envs\\EnvName\\lib\\site-packages\\tensorflow\\python\\ops\\math_ops.py:3066: to_int32 (from tensorflow.python.ops.math_ops) is deprecated and will be removed in a future version.\n",
      "Instructions for updating:\n",
      "Use tf.cast instead.\n",
      "Train on 1900 samples, validate on 325 samples\n",
      "Epoch 1/50\n",
      "1900/1900 [==============================] - 35s 18ms/step - loss: 1.6083 - categorical_accuracy: 0.2116 - val_loss: 1.6079 - val_categorical_accuracy: 0.2215\n",
      "Epoch 2/50\n",
      "1900/1900 [==============================] - 31s 16ms/step - loss: 1.6025 - categorical_accuracy: 0.2768 - val_loss: 1.6039 - val_categorical_accuracy: 0.2492\n",
      "Epoch 3/50\n",
      "1900/1900 [==============================] - 31s 17ms/step - loss: 1.5948 - categorical_accuracy: 0.2679 - val_loss: 1.5975 - val_categorical_accuracy: 0.2554\n",
      "Epoch 4/50\n",
      "1900/1900 [==============================] - 31s 16ms/step - loss: 1.5745 - categorical_accuracy: 0.2595 - val_loss: 1.5300 - val_categorical_accuracy: 0.2400\n",
      "Epoch 5/50\n",
      "1900/1900 [==============================] - 32s 17ms/step - loss: 1.3964 - categorical_accuracy: 0.2768 - val_loss: 1.3130 - val_categorical_accuracy: 0.4646\n",
      "Epoch 6/50\n",
      "1900/1900 [==============================] - 31s 17ms/step - loss: 1.2536 - categorical_accuracy: 0.5979 - val_loss: 1.2353 - val_categorical_accuracy: 0.5600\n",
      "Epoch 7/50\n",
      "1900/1900 [==============================] - 32s 17ms/step - loss: 1.2017 - categorical_accuracy: 0.6721 - val_loss: 1.2336 - val_categorical_accuracy: 0.5354\n",
      "Epoch 8/50\n",
      "1900/1900 [==============================] - 36s 19ms/step - loss: 1.1768 - categorical_accuracy: 0.6584 - val_loss: 1.2189 - val_categorical_accuracy: 0.5723\n",
      "Epoch 9/50\n",
      "1900/1900 [==============================] - 37s 20ms/step - loss: 1.1725 - categorical_accuracy: 0.6184 - val_loss: 1.4273 - val_categorical_accuracy: 0.4031\n",
      "Epoch 10/50\n",
      "1900/1900 [==============================] - 37s 19ms/step - loss: 1.2106 - categorical_accuracy: 0.5568 - val_loss: 1.1724 - val_categorical_accuracy: 0.5138\n",
      "Epoch 11/50\n",
      "1900/1900 [==============================] - 39s 21ms/step - loss: 1.1327 - categorical_accuracy: 0.6132 - val_loss: 1.1619 - val_categorical_accuracy: 0.5323\n",
      "Epoch 12/50\n",
      "1900/1900 [==============================] - 39s 21ms/step - loss: 1.1180 - categorical_accuracy: 0.6379 - val_loss: 1.1639 - val_categorical_accuracy: 0.5415\n",
      "Epoch 13/50\n",
      "1900/1900 [==============================] - 40s 21ms/step - loss: 1.1389 - categorical_accuracy: 0.6132 - val_loss: 1.1469 - val_categorical_accuracy: 0.5446\n",
      "Epoch 14/50\n",
      "1900/1900 [==============================] - 37s 19ms/step - loss: 1.0877 - categorical_accuracy: 0.6705 - val_loss: 1.1350 - val_categorical_accuracy: 0.5600\n",
      "Epoch 15/50\n",
      "1900/1900 [==============================] - 36s 19ms/step - loss: 1.0681 - categorical_accuracy: 0.6916 - val_loss: 1.1231 - val_categorical_accuracy: 0.5908\n",
      "Epoch 16/50\n",
      "1900/1900 [==============================] - 37s 19ms/step - loss: 1.0508 - categorical_accuracy: 0.7121 - val_loss: 1.1411 - val_categorical_accuracy: 0.6031\n",
      "Epoch 17/50\n",
      "1900/1900 [==============================] - 37s 19ms/step - loss: 1.0191 - categorical_accuracy: 0.7363 - val_loss: 1.0909 - val_categorical_accuracy: 0.6338\n",
      "Epoch 18/50\n",
      "1900/1900 [==============================] - 36s 19ms/step - loss: 0.9844 - categorical_accuracy: 0.7547 - val_loss: 1.1078 - val_categorical_accuracy: 0.6400\n",
      "Epoch 19/50\n",
      "1900/1900 [==============================] - 36s 19ms/step - loss: 0.9649 - categorical_accuracy: 0.7253 - val_loss: 1.0290 - val_categorical_accuracy: 0.6400\n",
      "Epoch 20/50\n",
      "1900/1900 [==============================] - 37s 19ms/step - loss: 0.8644 - categorical_accuracy: 0.7405 - val_loss: 0.9836 - val_categorical_accuracy: 0.5723\n",
      "Epoch 21/50\n",
      "1900/1900 [==============================] - 37s 19ms/step - loss: 0.7670 - categorical_accuracy: 0.7463 - val_loss: 0.8646 - val_categorical_accuracy: 0.6615\n",
      "Epoch 22/50\n",
      "1900/1900 [==============================] - 38s 20ms/step - loss: 0.7109 - categorical_accuracy: 0.7547 - val_loss: 0.8706 - val_categorical_accuracy: 0.6831\n",
      "Epoch 23/50\n",
      "1900/1900 [==============================] - 35s 18ms/step - loss: 0.6772 - categorical_accuracy: 0.7479 - val_loss: 0.8381 - val_categorical_accuracy: 0.6800\n",
      "Epoch 24/50\n",
      "1900/1900 [==============================] - 32s 17ms/step - loss: 0.6504 - categorical_accuracy: 0.7732 - val_loss: 0.8068 - val_categorical_accuracy: 0.6954\n",
      "Epoch 25/50\n",
      "1900/1900 [==============================] - 32s 17ms/step - loss: 0.6189 - categorical_accuracy: 0.7868 - val_loss: 0.8072 - val_categorical_accuracy: 0.7015\n",
      "Epoch 26/50\n",
      "1900/1900 [==============================] - 32s 17ms/step - loss: 0.5850 - categorical_accuracy: 0.7979 - val_loss: 0.7952 - val_categorical_accuracy: 0.7015\n",
      "Epoch 27/50\n",
      "1900/1900 [==============================] - 33s 17ms/step - loss: 0.5618 - categorical_accuracy: 0.8232 - val_loss: 0.7688 - val_categorical_accuracy: 0.7200\n",
      "Epoch 28/50\n",
      "1900/1900 [==============================] - 33s 17ms/step - loss: 0.7262 - categorical_accuracy: 0.8195 - val_loss: 0.8532 - val_categorical_accuracy: 0.7046\n",
      "Epoch 29/50\n",
      "1900/1900 [==============================] - 33s 17ms/step - loss: 0.5905 - categorical_accuracy: 0.8947 - val_loss: 0.7797 - val_categorical_accuracy: 0.7323\n",
      "Epoch 30/50\n",
      "1900/1900 [==============================] - 32s 17ms/step - loss: 0.5146 - categorical_accuracy: 0.8889 - val_loss: 0.6925 - val_categorical_accuracy: 0.7508\n",
      "Epoch 31/50\n",
      "1900/1900 [==============================] - 31s 16ms/step - loss: 0.4462 - categorical_accuracy: 0.9032 - val_loss: 0.6305 - val_categorical_accuracy: 0.7754\n",
      "Epoch 32/50\n",
      "1900/1900 [==============================] - 31s 17ms/step - loss: 0.4150 - categorical_accuracy: 0.9189 - val_loss: 0.6257 - val_categorical_accuracy: 0.7846\n",
      "Epoch 33/50\n",
      "1900/1900 [==============================] - 31s 17ms/step - loss: 0.3594 - categorical_accuracy: 0.9395 - val_loss: 0.7077 - val_categorical_accuracy: 0.7477\n",
      "Epoch 34/50\n",
      "1900/1900 [==============================] - 31s 17ms/step - loss: 0.3863 - categorical_accuracy: 0.9432 - val_loss: 0.6401 - val_categorical_accuracy: 0.7785\n",
      "Epoch 35/50\n",
      "1900/1900 [==============================] - 32s 17ms/step - loss: 0.3270 - categorical_accuracy: 0.9605 - val_loss: 0.5802 - val_categorical_accuracy: 0.7938\n",
      "Epoch 36/50\n",
      "1900/1900 [==============================] - 32s 17ms/step - loss: 0.3080 - categorical_accuracy: 0.9600 - val_loss: 0.5754 - val_categorical_accuracy: 0.7754\n",
      "Epoch 37/50\n",
      "1900/1900 [==============================] - 31s 16ms/step - loss: 0.2933 - categorical_accuracy: 0.9737 - val_loss: 0.5095 - val_categorical_accuracy: 0.8338\n",
      "Epoch 38/50\n",
      "1900/1900 [==============================] - 31s 16ms/step - loss: 0.2619 - categorical_accuracy: 0.9784 - val_loss: 0.4933 - val_categorical_accuracy: 0.8431\n",
      "Epoch 39/50\n",
      "1900/1900 [==============================] - 31s 17ms/step - loss: 0.2459 - categorical_accuracy: 0.9763 - val_loss: 0.5009 - val_categorical_accuracy: 0.8277\n",
      "Epoch 40/50\n",
      "1900/1900 [==============================] - 31s 17ms/step - loss: 0.2461 - categorical_accuracy: 0.9784 - val_loss: 0.5299 - val_categorical_accuracy: 0.8215\n",
      "Epoch 41/50\n",
      "1900/1900 [==============================] - 31s 16ms/step - loss: 0.2279 - categorical_accuracy: 0.9837 - val_loss: 0.4923 - val_categorical_accuracy: 0.8400\n",
      "Epoch 42/50\n",
      "1900/1900 [==============================] - 31s 16ms/step - loss: 0.2161 - categorical_accuracy: 0.9832 - val_loss: 0.5038 - val_categorical_accuracy: 0.8338\n",
      "Epoch 43/50\n",
      "1900/1900 [==============================] - 31s 16ms/step - loss: 0.2047 - categorical_accuracy: 0.9826 - val_loss: 0.4742 - val_categorical_accuracy: 0.8308\n",
      "Epoch 44/50\n",
      "1900/1900 [==============================] - 31s 17ms/step - loss: 0.1952 - categorical_accuracy: 0.9842 - val_loss: 0.4861 - val_categorical_accuracy: 0.8400\n",
      "Epoch 45/50\n",
      "1900/1900 [==============================] - 31s 17ms/step - loss: 0.1805 - categorical_accuracy: 0.9863 - val_loss: 0.4929 - val_categorical_accuracy: 0.8277\n",
      "Epoch 46/50\n",
      "1900/1900 [==============================] - 31s 16ms/step - loss: 0.1733 - categorical_accuracy: 0.9879 - val_loss: 0.4608 - val_categorical_accuracy: 0.8431\n",
      "Epoch 47/50\n"
     ]
    },
    {
     "name": "stdout",
     "output_type": "stream",
     "text": [
      "1900/1900 [==============================] - 31s 16ms/step - loss: 0.1610 - categorical_accuracy: 0.9868 - val_loss: 0.4556 - val_categorical_accuracy: 0.8492\n",
      "Epoch 48/50\n",
      "1900/1900 [==============================] - 31s 16ms/step - loss: 0.1445 - categorical_accuracy: 0.9900 - val_loss: 0.4595 - val_categorical_accuracy: 0.8431\n",
      "Epoch 49/50\n",
      "1900/1900 [==============================] - 31s 16ms/step - loss: 0.1310 - categorical_accuracy: 0.9911 - val_loss: 0.4831 - val_categorical_accuracy: 0.8308\n",
      "Epoch 50/50\n",
      "1900/1900 [==============================] - 31s 16ms/step - loss: 0.1142 - categorical_accuracy: 0.9916 - val_loss: 0.4663 - val_categorical_accuracy: 0.8369\n"
     ]
    }
   ],
   "source": [
    "history=model.fit(x_train,y_train, epochs=50, batch_size=32, validation_data=(x_val,y_val))"
   ]
  },
  {
   "cell_type": "markdown",
   "metadata": {},
   "source": [
    "# Plotting the results"
   ]
  },
  {
   "cell_type": "code",
   "execution_count": 5,
   "metadata": {},
   "outputs": [
    {
     "data": {
      "image/png": "[encoded data removed]",
      "text/plain": [
       "<Figure size 432x288 with 1 Axes>"
      ]
     },
     "metadata": {
      "needs_background": "light"
     },
     "output_type": "display_data"
    },
    {
     "data": {
      "image/png": "[encoded data removed]",
      "text/plain": [
       "<Figure size 432x288 with 1 Axes>"
      ]
     },
     "metadata": {
      "needs_background": "light"
     },
     "output_type": "display_data"
    }
   ],
   "source": [
    "import matplotlib.pyplot as plt\n",
    "%matplotlib inline\n",
    "\n",
    "acc=history.history['categorical_accuracy']\n",
    "val_acc=history.history['val_categorical_accuracy']\n",
    "loss=history.history['loss']\n",
    "val_loss=history.history['val_loss']\n",
    "epochs=range(1,len(acc)+1)\n",
    "plt.xlabel('Epochs')\n",
    "plt.ylabel('Accuracy')\n",
    "plt.plot(epochs, acc, 'bo', label='Training acc')\n",
    "plt.plot(epochs, val_acc, 'b', label='Validation acc')\n",
    "plt.title('Training and validation accuracy')\n",
    "plt.legend()\n",
    "plt.figure()\n",
    "\n",
    "plt.plot(epochs, loss, 'bo', label='Training loss')\n",
    "plt.plot(epochs, val_loss, 'b', label='Validation loss')\n",
    "plt.title('Training and validation loss')\n",
    "plt.xlabel('Epochs')\n",
    "plt.ylabel('Loss')\n",
    "plt.legend()\n",
    "plt.show()"
   ]
  }
 ],
 "metadata": {
  "kernelspec": {
   "display_name": "Python 3",
   "language": "python",
   "name": "python3"
  },
  "language_info": {
   "codemirror_mode": {
    "name": "ipython",
    "version": 3
   },
   "file_extension": ".py",
   "mimetype": "text/x-python",
   "name": "python",
   "nbconvert_exporter": "python",
   "pygments_lexer": "ipython3",
   "version": "3.6.8"
  }
 },
 "nbformat": 4,
 "nbformat_minor": 2
}
