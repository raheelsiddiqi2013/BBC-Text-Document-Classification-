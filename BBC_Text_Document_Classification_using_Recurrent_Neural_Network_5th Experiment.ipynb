{
 "cells": [
  {
   "cell_type": "markdown",
   "metadata": {},
   "source": [
    "# Preprocessing the raw BBC Text Document Data"
   ]
  },
  {
   "cell_type": "code",
   "execution_count": 1,
   "metadata": {},
   "outputs": [],
   "source": [
    "import os\n",
    "\n",
    "bbc_dir='D:\\\\TensorFlow Programs\\\\Text Classification Programs and Datasets\\\\bbc'\n",
    "\n",
    "labels = []\n",
    "texts = []\n",
    "\n",
    "for label_type in ['business','entertainment','politics','sport','tech']:\n",
    "    dir_name=os.path.join(bbc_dir, label_type)\n",
    "    for fname in os.listdir(dir_name):\n",
    "        if fname[-4:]=='.txt':\n",
    "            f=open(os.path.join(dir_name,fname))\n",
    "            texts.append(f.read())\n",
    "            f.close()\n",
    "            if label_type=='business':\n",
    "                labels.append(0)\n",
    "            elif label_type=='entertainment':\n",
    "                labels.append(1)\n",
    "            elif label_type=='politics':\n",
    "                labels.append(2)\n",
    "            elif label_type=='sport':\n",
    "                labels.append(3)\n",
    "            elif label_type=='tech':\n",
    "                labels.append(4)"
   ]
  },
  {
   "cell_type": "markdown",
   "metadata": {},
   "source": [
    "# Tokenizing the data"
   ]
  },
  {
   "cell_type": "code",
   "execution_count": 2,
   "metadata": {},
   "outputs": [
    {
     "name": "stderr",
     "output_type": "stream",
     "text": [
      "Using TensorFlow backend.\n"
     ]
    },
    {
     "name": "stdout",
     "output_type": "stream",
     "text": [
      "Found 32360 unique tokens\n",
      "(2225, 5)\n",
      "Shape of data tensor: (2225, 400)\n",
      "Shape of label tensor: (2225, 5)\n"
     ]
    }
   ],
   "source": [
    "from keras.preprocessing.text import Tokenizer\n",
    "from keras.preprocessing.sequence import pad_sequences\n",
    "from keras.utils import to_categorical\n",
    "import numpy as np\n",
    "\n",
    "maxlen=400\n",
    "training_samples=1900\n",
    "validation_samples=len(texts)-training_samples\n",
    "max_words=30000\n",
    "\n",
    "tokenizer=Tokenizer(num_words=max_words)\n",
    "tokenizer.fit_on_texts(texts)\n",
    "sequences=tokenizer.texts_to_sequences(texts)\n",
    "word_index=tokenizer.word_index\n",
    "print('Found %s unique tokens'%len(word_index))\n",
    "\n",
    "data=pad_sequences(sequences, maxlen=maxlen)\n",
    "\n",
    "labels=np.asarray(labels)\n",
    "labels=to_categorical(labels,num_classes=5)\n",
    "print(labels.shape)\n",
    "print('Shape of data tensor:',data.shape)\n",
    "print('Shape of label tensor:',labels.shape)\n",
    "\n",
    "indices=np.arange(data.shape[0])\n",
    "np.random.shuffle(indices)\n",
    "data=data[indices]\n",
    "labels=labels[indices]\n",
    "      \n",
    "x_train=data[:training_samples]\n",
    "y_train=labels[:training_samples]\n",
    "x_val=data[training_samples:training_samples+validation_samples]\n",
    "y_val=labels[training_samples:training_samples+validation_samples]"
   ]
  },
  {
   "cell_type": "markdown",
   "metadata": {},
   "source": [
    "# Defining a model"
   ]
  },
  {
   "cell_type": "code",
   "execution_count": 3,
   "metadata": {},
   "outputs": [
    {
     "name": "stdout",
     "output_type": "stream",
     "text": [
      "WARNING:tensorflow:From C:\\Users\\Raheel\\Anaconda3\\envs\\EnvName\\lib\\site-packages\\tensorflow\\python\\framework\\op_def_library.py:263: colocate_with (from tensorflow.python.framework.ops) is deprecated and will be removed in a future version.\n",
      "Instructions for updating:\n",
      "Colocations handled automatically by placer.\n",
      "_________________________________________________________________\n",
      "Layer (type)                 Output Shape              Param #   \n",
      "=================================================================\n",
      "embedding_1 (Embedding)      (None, None, 100)         3000000   \n",
      "_________________________________________________________________\n",
      "lstm_1 (LSTM)                (None, 64)                42240     \n",
      "_________________________________________________________________\n",
      "dense_1 (Dense)              (None, 5)                 325       \n",
      "=================================================================\n",
      "Total params: 3,042,565\n",
      "Trainable params: 3,042,565\n",
      "Non-trainable params: 0\n",
      "_________________________________________________________________\n"
     ]
    }
   ],
   "source": [
    "from keras.models import Sequential\n",
    "from keras.layers import Embedding, LSTM, Dense\n",
    "from keras import optimizers\n",
    "\n",
    "embedding_dim=100\n",
    "model=Sequential()\n",
    "model.add(Embedding(max_words,embedding_dim))\n",
    "model.add(LSTM(64))\n",
    "model.add(Dense(5, activation='softmax'))\n",
    "model.compile(loss='categorical_crossentropy',optimizer=optimizers.Adam(lr=1e-4),metrics=['categorical_accuracy'])\n",
    "model.summary()"
   ]
  },
  {
   "cell_type": "markdown",
   "metadata": {},
   "source": [
    "# Model Training"
   ]
  },
  {
   "cell_type": "code",
   "execution_count": 4,
   "metadata": {},
   "outputs": [
    {
     "name": "stdout",
     "output_type": "stream",
     "text": [
      "WARNING:tensorflow:From C:\\Users\\Raheel\\Anaconda3\\envs\\EnvName\\lib\\site-packages\\tensorflow\\python\\ops\\math_ops.py:3066: to_int32 (from tensorflow.python.ops.math_ops) is deprecated and will be removed in a future version.\n",
      "Instructions for updating:\n",
      "Use tf.cast instead.\n",
      "Train on 1900 samples, validate on 325 samples\n",
      "Epoch 1/15\n",
      "1900/1900 [==============================] - 35s 18ms/step - loss: 1.6077 - categorical_accuracy: 0.2521 - val_loss: 1.6061 - val_categorical_accuracy: 0.2862\n",
      "Epoch 2/15\n",
      "1900/1900 [==============================] - 32s 17ms/step - loss: 1.6014 - categorical_accuracy: 0.3216 - val_loss: 1.6010 - val_categorical_accuracy: 0.3169\n",
      "Epoch 3/15\n",
      "1900/1900 [==============================] - 31s 16ms/step - loss: 1.5920 - categorical_accuracy: 0.3816 - val_loss: 1.5923 - val_categorical_accuracy: 0.3508\n",
      "Epoch 4/15\n",
      "1900/1900 [==============================] - 31s 16ms/step - loss: 1.5387 - categorical_accuracy: 0.4163 - val_loss: 1.3358 - val_categorical_accuracy: 0.4769\n",
      "Epoch 5/15\n",
      "1900/1900 [==============================] - 31s 16ms/step - loss: 1.2322 - categorical_accuracy: 0.4447 - val_loss: 1.0861 - val_categorical_accuracy: 0.4769\n",
      "Epoch 6/15\n",
      "1900/1900 [==============================] - 31s 16ms/step - loss: 1.0058 - categorical_accuracy: 0.4605 - val_loss: 0.9623 - val_categorical_accuracy: 0.4800\n",
      "Epoch 7/15\n",
      "1900/1900 [==============================] - 31s 16ms/step - loss: 0.9322 - categorical_accuracy: 0.4847 - val_loss: 0.9954 - val_categorical_accuracy: 0.5077\n",
      "Epoch 8/15\n",
      "1900/1900 [==============================] - 32s 17ms/step - loss: 0.9036 - categorical_accuracy: 0.5100 - val_loss: 0.9419 - val_categorical_accuracy: 0.5077\n",
      "Epoch 9/15\n",
      "1900/1900 [==============================] - 31s 16ms/step - loss: 0.8555 - categorical_accuracy: 0.5332 - val_loss: 0.9303 - val_categorical_accuracy: 0.5385\n",
      "Epoch 10/15\n",
      "1900/1900 [==============================] - 31s 16ms/step - loss: 0.8353 - categorical_accuracy: 0.6053 - val_loss: 0.9310 - val_categorical_accuracy: 0.6369\n",
      "Epoch 11/15\n",
      "1900/1900 [==============================] - 31s 17ms/step - loss: 0.8119 - categorical_accuracy: 0.6853 - val_loss: 0.9479 - val_categorical_accuracy: 0.5938\n",
      "Epoch 12/15\n",
      "1900/1900 [==============================] - 31s 17ms/step - loss: 0.7834 - categorical_accuracy: 0.6805 - val_loss: 0.8709 - val_categorical_accuracy: 0.6523\n",
      "Epoch 13/15\n",
      "1900/1900 [==============================] - 31s 17ms/step - loss: 0.7629 - categorical_accuracy: 0.7321 - val_loss: 0.8581 - val_categorical_accuracy: 0.6923\n",
      "Epoch 14/15\n",
      "1900/1900 [==============================] - 31s 17ms/step - loss: 0.7530 - categorical_accuracy: 0.7721 - val_loss: 0.8454 - val_categorical_accuracy: 0.6769\n",
      "Epoch 15/15\n",
      "1900/1900 [==============================] - 31s 17ms/step - loss: 0.6999 - categorical_accuracy: 0.7553 - val_loss: 0.7862 - val_categorical_accuracy: 0.7138\n"
     ]
    }
   ],
   "source": [
    "history=model.fit(x_train,y_train, epochs=15, batch_size=32, validation_data=(x_val,y_val))"
   ]
  },
  {
   "cell_type": "markdown",
   "metadata": {},
   "source": [
    "# Plotting the results"
   ]
  },
  {
   "cell_type": "code",
   "execution_count": 5,
   "metadata": {},
   "outputs": [
    {
     "data": {
      "image/png": "[encoded data removed]",
      "text/plain": [
       "<Figure size 432x288 with 1 Axes>"
      ]
     },
     "metadata": {
      "needs_background": "light"
     },
     "output_type": "display_data"
    },
    {
     "data": {
      "image/png": "[encoded data removed]",
      "text/plain": [
       "<Figure size 432x288 with 1 Axes>"
      ]
     },
     "metadata": {
      "needs_background": "light"
     },
     "output_type": "display_data"
    }
   ],
   "source": [
    "import matplotlib.pyplot as plt\n",
    "%matplotlib inline\n",
    "\n",
    "acc=history.history['categorical_accuracy']\n",
    "val_acc=history.history['val_categorical_accuracy']\n",
    "loss=history.history['loss']\n",
    "val_loss=history.history['val_loss']\n",
    "epochs=range(1,len(acc)+1)\n",
    "plt.xlabel('Epochs')\n",
    "plt.ylabel('Accuracy')\n",
    "plt.plot(epochs, acc, 'bo', label='Training acc')\n",
    "plt.plot(epochs, val_acc, 'b', label='Validation acc')\n",
    "plt.title('Training and validation accuracy')\n",
    "plt.legend()\n",
    "plt.figure()\n",
    "\n",
    "plt.plot(epochs, loss, 'bo', label='Training loss')\n",
    "plt.plot(epochs, val_loss, 'b', label='Validation loss')\n",
    "plt.title('Training and validation loss')\n",
    "plt.xlabel('Epochs')\n",
    "plt.ylabel('Loss')\n",
    "plt.legend()\n",
    "plt.show()"
   ]
  }
 ],
 "metadata": {
  "kernelspec": {
   "display_name": "Python 3",
   "language": "python",
   "name": "python3"
  },
  "language_info": {
   "codemirror_mode": {
    "name": "ipython",
    "version": 3
   },
   "file_extension": ".py",
   "mimetype": "text/x-python",
   "name": "python",
   "nbconvert_exporter": "python",
   "pygments_lexer": "ipython3",
   "version": "3.6.8"
  }
 },
 "nbformat": 4,
 "nbformat_minor": 2
}
