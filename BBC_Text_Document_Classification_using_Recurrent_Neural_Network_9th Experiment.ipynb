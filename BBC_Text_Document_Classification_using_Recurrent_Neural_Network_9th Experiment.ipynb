{
 "cells": [
  {
   "cell_type": "markdown",
   "metadata": {},
   "source": [
    "# Preprocessing the raw BBC Text Document Data"
   ]
  },
  {
   "cell_type": "code",
   "execution_count": 1,
   "metadata": {},
   "outputs": [],
   "source": [
    "import os\n",
    "\n",
    "bbc_dir='D:\\\\TensorFlow Programs\\\\Text Classification Programs and Datasets\\\\bbc'\n",
    "\n",
    "labels = []\n",
    "texts = []\n",
    "\n",
    "for label_type in ['business','entertainment','politics','sport','tech']:\n",
    "    dir_name=os.path.join(bbc_dir, label_type)\n",
    "    for fname in os.listdir(dir_name):\n",
    "        if fname[-4:]=='.txt':\n",
    "            f=open(os.path.join(dir_name,fname))\n",
    "            texts.append(f.read())\n",
    "            f.close()\n",
    "            if label_type=='business':\n",
    "                labels.append(0)\n",
    "            elif label_type=='entertainment':\n",
    "                labels.append(1)\n",
    "            elif label_type=='politics':\n",
    "                labels.append(2)\n",
    "            elif label_type=='sport':\n",
    "                labels.append(3)\n",
    "            elif label_type=='tech':\n",
    "                labels.append(4)"
   ]
  },
  {
   "cell_type": "markdown",
   "metadata": {},
   "source": [
    "# Tokenizing the data"
   ]
  },
  {
   "cell_type": "code",
   "execution_count": 2,
   "metadata": {},
   "outputs": [
    {
     "name": "stderr",
     "output_type": "stream",
     "text": [
      "Using TensorFlow backend.\n"
     ]
    },
    {
     "name": "stdout",
     "output_type": "stream",
     "text": [
      "Found 32360 unique tokens\n",
      "(2225, 5)\n",
      "Shape of data tensor: (2225, 400)\n",
      "Shape of label tensor: (2225, 5)\n"
     ]
    }
   ],
   "source": [
    "from keras.preprocessing.text import Tokenizer\n",
    "from keras.preprocessing.sequence import pad_sequences\n",
    "from keras.utils import to_categorical\n",
    "import numpy as np\n",
    "\n",
    "maxlen=400\n",
    "training_samples=1900\n",
    "validation_samples=len(texts)-training_samples\n",
    "max_words=30000\n",
    "\n",
    "tokenizer=Tokenizer(num_words=max_words)\n",
    "tokenizer.fit_on_texts(texts)\n",
    "sequences=tokenizer.texts_to_sequences(texts)\n",
    "word_index=tokenizer.word_index\n",
    "print('Found %s unique tokens'%len(word_index))\n",
    "\n",
    "data=pad_sequences(sequences, maxlen=maxlen)\n",
    "\n",
    "labels=np.asarray(labels)\n",
    "labels=to_categorical(labels,num_classes=5)\n",
    "print(labels.shape)\n",
    "print('Shape of data tensor:',data.shape)\n",
    "print('Shape of label tensor:',labels.shape)\n",
    "\n",
    "indices=np.arange(data.shape[0])\n",
    "np.random.shuffle(indices)\n",
    "data=data[indices]\n",
    "labels=labels[indices]\n",
    "      \n",
    "x_train=data[:training_samples]\n",
    "y_train=labels[:training_samples]\n",
    "x_val=data[training_samples:training_samples+validation_samples]\n",
    "y_val=labels[training_samples:training_samples+validation_samples]"
   ]
  },
  {
   "cell_type": "markdown",
   "metadata": {},
   "source": [
    "# Defining a model"
   ]
  },
  {
   "cell_type": "code",
   "execution_count": 3,
   "metadata": {},
   "outputs": [
    {
     "name": "stdout",
     "output_type": "stream",
     "text": [
      "WARNING:tensorflow:From C:\\Users\\Raheel\\Anaconda3\\envs\\EnvName\\lib\\site-packages\\tensorflow\\python\\framework\\op_def_library.py:263: colocate_with (from tensorflow.python.framework.ops) is deprecated and will be removed in a future version.\n",
      "Instructions for updating:\n",
      "Colocations handled automatically by placer.\n",
      "_________________________________________________________________\n",
      "Layer (type)                 Output Shape              Param #   \n",
      "=================================================================\n",
      "embedding_1 (Embedding)      (None, None, 100)         3000000   \n",
      "_________________________________________________________________\n",
      "lstm_1 (LSTM)                (None, 256)               365568    \n",
      "_________________________________________________________________\n",
      "dense_1 (Dense)              (None, 5)                 1285      \n",
      "=================================================================\n",
      "Total params: 3,366,853\n",
      "Trainable params: 3,366,853\n",
      "Non-trainable params: 0\n",
      "_________________________________________________________________\n"
     ]
    }
   ],
   "source": [
    "from keras.models import Sequential\n",
    "from keras.layers import Embedding, LSTM, Dense\n",
    "from keras import optimizers\n",
    "\n",
    "embedding_dim=100\n",
    "model=Sequential()\n",
    "model.add(Embedding(max_words,embedding_dim))\n",
    "model.add(LSTM(256))\n",
    "model.add(Dense(5, activation='softmax'))\n",
    "model.compile(loss='categorical_crossentropy',optimizer=optimizers.Adam(lr=1e-4),metrics=['categorical_accuracy'])\n",
    "model.summary()"
   ]
  },
  {
   "cell_type": "markdown",
   "metadata": {},
   "source": [
    "# Model Training"
   ]
  },
  {
   "cell_type": "code",
   "execution_count": 4,
   "metadata": {},
   "outputs": [
    {
     "name": "stdout",
     "output_type": "stream",
     "text": [
      "WARNING:tensorflow:From C:\\Users\\Raheel\\Anaconda3\\envs\\EnvName\\lib\\site-packages\\tensorflow\\python\\ops\\math_ops.py:3066: to_int32 (from tensorflow.python.ops.math_ops) is deprecated and will be removed in a future version.\n",
      "Instructions for updating:\n",
      "Use tf.cast instead.\n",
      "Train on 1900 samples, validate on 325 samples\n",
      "Epoch 1/50\n",
      "1900/1900 [==============================] - 35s 19ms/step - loss: 1.6070 - categorical_accuracy: 0.2337 - val_loss: 1.6055 - val_categorical_accuracy: 0.2215\n",
      "Epoch 2/50\n",
      "1900/1900 [==============================] - 32s 17ms/step - loss: 1.5974 - categorical_accuracy: 0.2984 - val_loss: 1.5980 - val_categorical_accuracy: 0.2154\n",
      "Epoch 3/50\n",
      "1900/1900 [==============================] - 33s 17ms/step - loss: 1.5574 - categorical_accuracy: 0.3411 - val_loss: 1.5473 - val_categorical_accuracy: 0.4277\n",
      "Epoch 4/50\n",
      "1900/1900 [==============================] - 34s 18ms/step - loss: 1.3624 - categorical_accuracy: 0.5021 - val_loss: 1.1787 - val_categorical_accuracy: 0.4954\n",
      "Epoch 5/50\n",
      "1900/1900 [==============================] - 34s 18ms/step - loss: 1.0600 - categorical_accuracy: 0.4721 - val_loss: 1.0220 - val_categorical_accuracy: 0.4523\n",
      "Epoch 6/50\n",
      "1900/1900 [==============================] - 34s 18ms/step - loss: 0.9672 - categorical_accuracy: 0.5558 - val_loss: 1.0530 - val_categorical_accuracy: 0.5262\n",
      "Epoch 7/50\n",
      "1900/1900 [==============================] - 34s 18ms/step - loss: 0.8854 - categorical_accuracy: 0.6947 - val_loss: 0.9824 - val_categorical_accuracy: 0.7077\n",
      "Epoch 8/50\n",
      "1900/1900 [==============================] - 33s 18ms/step - loss: 0.7974 - categorical_accuracy: 0.6489 - val_loss: 0.8502 - val_categorical_accuracy: 0.6308\n",
      "Epoch 9/50\n",
      "1900/1900 [==============================] - 32s 17ms/step - loss: 0.9510 - categorical_accuracy: 0.6416 - val_loss: 1.1228 - val_categorical_accuracy: 0.5846\n",
      "Epoch 10/50\n",
      "1900/1900 [==============================] - 32s 17ms/step - loss: 0.9880 - categorical_accuracy: 0.6053 - val_loss: 0.9958 - val_categorical_accuracy: 0.5908\n",
      "Epoch 11/50\n",
      "1900/1900 [==============================] - 32s 17ms/step - loss: 0.8152 - categorical_accuracy: 0.6895 - val_loss: 0.9442 - val_categorical_accuracy: 0.6277\n",
      "Epoch 12/50\n",
      "1900/1900 [==============================] - 32s 17ms/step - loss: 0.6611 - categorical_accuracy: 0.7726 - val_loss: 0.6912 - val_categorical_accuracy: 0.8031\n",
      "Epoch 13/50\n",
      "1900/1900 [==============================] - 32s 17ms/step - loss: 0.4871 - categorical_accuracy: 0.8568 - val_loss: 0.5816 - val_categorical_accuracy: 0.8062\n",
      "Epoch 14/50\n",
      "1900/1900 [==============================] - 32s 17ms/step - loss: 0.3836 - categorical_accuracy: 0.8768 - val_loss: 0.4245 - val_categorical_accuracy: 0.8708\n",
      "Epoch 15/50\n",
      "1900/1900 [==============================] - 32s 17ms/step - loss: 0.3174 - categorical_accuracy: 0.9016 - val_loss: 0.4451 - val_categorical_accuracy: 0.8185\n",
      "Epoch 16/50\n",
      "1900/1900 [==============================] - 32s 17ms/step - loss: 0.3395 - categorical_accuracy: 0.8826 - val_loss: 0.5451 - val_categorical_accuracy: 0.8000\n",
      "Epoch 17/50\n",
      "1900/1900 [==============================] - 32s 17ms/step - loss: 0.2793 - categorical_accuracy: 0.9311 - val_loss: 0.4756 - val_categorical_accuracy: 0.7692\n",
      "Epoch 18/50\n",
      "1900/1900 [==============================] - 32s 17ms/step - loss: 0.5364 - categorical_accuracy: 0.8468 - val_loss: 0.4729 - val_categorical_accuracy: 0.8215\n",
      "Epoch 19/50\n",
      "1900/1900 [==============================] - 32s 17ms/step - loss: 0.3298 - categorical_accuracy: 0.8763 - val_loss: 0.5724 - val_categorical_accuracy: 0.7108\n",
      "Epoch 20/50\n",
      "1900/1900 [==============================] - 33s 17ms/step - loss: 0.5154 - categorical_accuracy: 0.8500 - val_loss: 0.6964 - val_categorical_accuracy: 0.7938\n",
      "Epoch 21/50\n",
      "1900/1900 [==============================] - 33s 17ms/step - loss: 0.4694 - categorical_accuracy: 0.9042 - val_loss: 0.5737 - val_categorical_accuracy: 0.8031\n",
      "Epoch 22/50\n",
      "1900/1900 [==============================] - 34s 18ms/step - loss: 0.2516 - categorical_accuracy: 0.9589 - val_loss: 0.5868 - val_categorical_accuracy: 0.7785\n",
      "Epoch 23/50\n",
      "1900/1900 [==============================] - 33s 17ms/step - loss: 0.5161 - categorical_accuracy: 0.8221 - val_loss: 0.5936 - val_categorical_accuracy: 0.7631\n",
      "Epoch 24/50\n",
      "1900/1900 [==============================] - 32s 17ms/step - loss: 0.3893 - categorical_accuracy: 0.8374 - val_loss: 0.6192 - val_categorical_accuracy: 0.7723\n",
      "Epoch 25/50\n",
      "1900/1900 [==============================] - 32s 17ms/step - loss: 0.2730 - categorical_accuracy: 0.8621 - val_loss: 0.4068 - val_categorical_accuracy: 0.8308\n",
      "Epoch 26/50\n",
      "1900/1900 [==============================] - 32s 17ms/step - loss: 0.2037 - categorical_accuracy: 0.9500 - val_loss: 0.4374 - val_categorical_accuracy: 0.8708\n",
      "Epoch 27/50\n",
      "1900/1900 [==============================] - 32s 17ms/step - loss: 0.2013 - categorical_accuracy: 0.9700 - val_loss: 0.4772 - val_categorical_accuracy: 0.8431\n",
      "Epoch 28/50\n",
      "1900/1900 [==============================] - 32s 17ms/step - loss: 0.1082 - categorical_accuracy: 0.9821 - val_loss: 0.3695 - val_categorical_accuracy: 0.8954\n",
      "Epoch 29/50\n",
      "1900/1900 [==============================] - 32s 17ms/step - loss: 0.1028 - categorical_accuracy: 0.9779 - val_loss: 0.2877 - val_categorical_accuracy: 0.9231\n",
      "Epoch 30/50\n",
      "1900/1900 [==============================] - 32s 17ms/step - loss: 0.0424 - categorical_accuracy: 0.9874 - val_loss: 0.3022 - val_categorical_accuracy: 0.9138\n",
      "Epoch 31/50\n",
      "1900/1900 [==============================] - 34s 18ms/step - loss: 0.0305 - categorical_accuracy: 0.9947 - val_loss: 0.2472 - val_categorical_accuracy: 0.9231\n",
      "Epoch 32/50\n",
      "1900/1900 [==============================] - 32s 17ms/step - loss: 0.0317 - categorical_accuracy: 0.9942 - val_loss: 0.2364 - val_categorical_accuracy: 0.9477\n",
      "Epoch 33/50\n",
      "1900/1900 [==============================] - 33s 17ms/step - loss: 0.0344 - categorical_accuracy: 0.9942 - val_loss: 0.3105 - val_categorical_accuracy: 0.9046\n",
      "Epoch 34/50\n",
      "1900/1900 [==============================] - 34s 18ms/step - loss: 0.0475 - categorical_accuracy: 0.9953 - val_loss: 0.2877 - val_categorical_accuracy: 0.9292\n",
      "Epoch 35/50\n",
      "1900/1900 [==============================] - 33s 17ms/step - loss: 0.1142 - categorical_accuracy: 0.9800 - val_loss: 0.3241 - val_categorical_accuracy: 0.9046\n",
      "Epoch 36/50\n",
      "1900/1900 [==============================] - 33s 17ms/step - loss: 0.0138 - categorical_accuracy: 0.9984 - val_loss: 0.2040 - val_categorical_accuracy: 0.9508\n",
      "Epoch 37/50\n",
      "1900/1900 [==============================] - 33s 17ms/step - loss: 0.0073 - categorical_accuracy: 0.9995 - val_loss: 0.1969 - val_categorical_accuracy: 0.9538\n",
      "Epoch 38/50\n",
      "1900/1900 [==============================] - 33s 17ms/step - loss: 0.0079 - categorical_accuracy: 0.9989 - val_loss: 0.2058 - val_categorical_accuracy: 0.9477\n",
      "Epoch 39/50\n",
      "1900/1900 [==============================] - 34s 18ms/step - loss: 0.0177 - categorical_accuracy: 0.9947 - val_loss: 0.3511 - val_categorical_accuracy: 0.9108\n",
      "Epoch 40/50\n",
      "1900/1900 [==============================] - 33s 17ms/step - loss: 0.0094 - categorical_accuracy: 0.9989 - val_loss: 0.2190 - val_categorical_accuracy: 0.9508\n",
      "Epoch 41/50\n",
      "1900/1900 [==============================] - 33s 17ms/step - loss: 0.0023 - categorical_accuracy: 1.0000 - val_loss: 0.2661 - val_categorical_accuracy: 0.9354\n",
      "Epoch 42/50\n",
      "1900/1900 [==============================] - 33s 17ms/step - loss: 0.0042 - categorical_accuracy: 0.9995 - val_loss: 0.2616 - val_categorical_accuracy: 0.9385\n",
      "Epoch 43/50\n",
      "1900/1900 [==============================] - 33s 17ms/step - loss: 0.0039 - categorical_accuracy: 0.9995 - val_loss: 0.2633 - val_categorical_accuracy: 0.9415\n",
      "Epoch 44/50\n",
      "1900/1900 [==============================] - 34s 18ms/step - loss: 0.0018 - categorical_accuracy: 1.0000 - val_loss: 0.2779 - val_categorical_accuracy: 0.9385\n",
      "Epoch 45/50\n",
      "1900/1900 [==============================] - 36s 19ms/step - loss: 0.0044 - categorical_accuracy: 0.9995 - val_loss: 0.3836 - val_categorical_accuracy: 0.8985\n",
      "Epoch 46/50\n",
      "1900/1900 [==============================] - 36s 19ms/step - loss: 0.0095 - categorical_accuracy: 0.9984 - val_loss: 0.2069 - val_categorical_accuracy: 0.9569\n",
      "Epoch 47/50\n"
     ]
    },
    {
     "name": "stdout",
     "output_type": "stream",
     "text": [
      "1900/1900 [==============================] - 37s 19ms/step - loss: 0.0478 - categorical_accuracy: 0.9916 - val_loss: 0.2524 - val_categorical_accuracy: 0.9354\n",
      "Epoch 48/50\n",
      "1900/1900 [==============================] - 37s 19ms/step - loss: 0.0111 - categorical_accuracy: 0.9979 - val_loss: 0.2408 - val_categorical_accuracy: 0.9508\n",
      "Epoch 49/50\n",
      "1900/1900 [==============================] - 37s 19ms/step - loss: 0.0037 - categorical_accuracy: 0.9995 - val_loss: 0.2329 - val_categorical_accuracy: 0.9538\n",
      "Epoch 50/50\n",
      "1900/1900 [==============================] - 36s 19ms/step - loss: 0.0033 - categorical_accuracy: 0.9995 - val_loss: 0.2638 - val_categorical_accuracy: 0.9477\n"
     ]
    }
   ],
   "source": [
    "history=model.fit(x_train,y_train, epochs=50, batch_size=32, validation_data=(x_val,y_val))"
   ]
  },
  {
   "cell_type": "markdown",
   "metadata": {},
   "source": [
    "# Plotting the results"
   ]
  },
  {
   "cell_type": "code",
   "execution_count": 5,
   "metadata": {},
   "outputs": [
    {
     "data": {
      "image/png": "[encoded data removed]",
      "text/plain": [
       "<Figure size 432x288 with 1 Axes>"
      ]
     },
     "metadata": {
      "needs_background": "light"
     },
     "output_type": "display_data"
    },
    {
     "data": {
      "image/png": "[encoded data removed]",
      "text/plain": [
       "<Figure size 432x288 with 1 Axes>"
      ]
     },
     "metadata": {
      "needs_background": "light"
     },
     "output_type": "display_data"
    }
   ],
   "source": [
    "import matplotlib.pyplot as plt\n",
    "%matplotlib inline\n",
    "\n",
    "acc=history.history['categorical_accuracy']\n",
    "val_acc=history.history['val_categorical_accuracy']\n",
    "loss=history.history['loss']\n",
    "val_loss=history.history['val_loss']\n",
    "epochs=range(1,len(acc)+1)\n",
    "plt.xlabel('Epochs')\n",
    "plt.ylabel('Accuracy')\n",
    "plt.plot(epochs, acc, 'bo', label='Training acc')\n",
    "plt.plot(epochs, val_acc, 'b', label='Validation acc')\n",
    "plt.title('Training and validation accuracy')\n",
    "plt.legend()\n",
    "plt.figure()\n",
    "\n",
    "plt.plot(epochs, loss, 'bo', label='Training loss')\n",
    "plt.plot(epochs, val_loss, 'b', label='Validation loss')\n",
    "plt.title('Training and validation loss')\n",
    "plt.xlabel('Epochs')\n",
    "plt.ylabel('Loss')\n",
    "plt.legend()\n",
    "plt.show()"
   ]
  }
 ],
 "metadata": {
  "kernelspec": {
   "display_name": "Python 3",
   "language": "python",
   "name": "python3"
  },
  "language_info": {
   "codemirror_mode": {
    "name": "ipython",
    "version": 3
   },
   "file_extension": ".py",
   "mimetype": "text/x-python",
   "name": "python",
   "nbconvert_exporter": "python",
   "pygments_lexer": "ipython3",
   "version": "3.6.8"
  }
 },
 "nbformat": 4,
 "nbformat_minor": 2
}
