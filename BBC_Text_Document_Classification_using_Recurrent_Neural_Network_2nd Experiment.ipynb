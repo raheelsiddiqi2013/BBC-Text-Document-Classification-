{
 "cells": [
  {
   "cell_type": "markdown",
   "metadata": {},
   "source": [
    "# Preprocessing the raw BBC Text Document Data"
   ]
  },
  {
   "cell_type": "code",
   "execution_count": 1,
   "metadata": {},
   "outputs": [],
   "source": [
    "import os\n",
    "\n",
    "bbc_dir='D:\\\\TensorFlow Programs\\\\Text Classification Programs and Datasets\\\\bbc'\n",
    "\n",
    "labels = []\n",
    "texts = []\n",
    "\n",
    "for label_type in ['business','entertainment','politics','sport','tech']:\n",
    "    dir_name=os.path.join(bbc_dir, label_type)\n",
    "    for fname in os.listdir(dir_name):\n",
    "        if fname[-4:]=='.txt':\n",
    "            f=open(os.path.join(dir_name,fname))\n",
    "            texts.append(f.read())\n",
    "            f.close()\n",
    "            if label_type=='business':\n",
    "                labels.append(0)\n",
    "            elif label_type=='entertainment':\n",
    "                labels.append(1)\n",
    "            elif label_type=='politics':\n",
    "                labels.append(2)\n",
    "            elif label_type=='sport':\n",
    "                labels.append(3)\n",
    "            elif label_type=='tech':\n",
    "                labels.append(4)"
   ]
  },
  {
   "cell_type": "markdown",
   "metadata": {},
   "source": [
    "# Tokenizing the data"
   ]
  },
  {
   "cell_type": "code",
   "execution_count": 2,
   "metadata": {},
   "outputs": [
    {
     "name": "stderr",
     "output_type": "stream",
     "text": [
      "Using TensorFlow backend.\n"
     ]
    },
    {
     "name": "stdout",
     "output_type": "stream",
     "text": [
      "Found 32360 unique tokens\n",
      "(2225, 5)\n",
      "Shape of data tensor: (2225, 400)\n",
      "Shape of label tensor: (2225, 5)\n"
     ]
    }
   ],
   "source": [
    "from keras.preprocessing.text import Tokenizer\n",
    "from keras.preprocessing.sequence import pad_sequences\n",
    "from keras.utils import to_categorical\n",
    "import numpy as np\n",
    "\n",
    "maxlen=400\n",
    "training_samples=1900\n",
    "validation_samples=len(texts)-training_samples\n",
    "max_words=30000\n",
    "\n",
    "tokenizer=Tokenizer(num_words=max_words)\n",
    "tokenizer.fit_on_texts(texts)\n",
    "sequences=tokenizer.texts_to_sequences(texts)\n",
    "word_index=tokenizer.word_index\n",
    "print('Found %s unique tokens'%len(word_index))\n",
    "\n",
    "data=pad_sequences(sequences, maxlen=maxlen)\n",
    "\n",
    "labels=np.asarray(labels)\n",
    "labels=to_categorical(labels,num_classes=5)\n",
    "print(labels.shape)\n",
    "print('Shape of data tensor:',data.shape)\n",
    "print('Shape of label tensor:',labels.shape)\n",
    "\n",
    "indices=np.arange(data.shape[0])\n",
    "np.random.shuffle(indices)\n",
    "data=data[indices]\n",
    "labels=labels[indices]\n",
    "      \n",
    "x_train=data[:training_samples]\n",
    "y_train=labels[:training_samples]\n",
    "x_val=data[training_samples:training_samples+validation_samples]\n",
    "y_val=labels[training_samples:training_samples+validation_samples]"
   ]
  },
  {
   "cell_type": "markdown",
   "metadata": {},
   "source": [
    "# Defining a model"
   ]
  },
  {
   "cell_type": "code",
   "execution_count": 3,
   "metadata": {},
   "outputs": [
    {
     "name": "stdout",
     "output_type": "stream",
     "text": [
      "WARNING:tensorflow:From C:\\Users\\Raheel\\Anaconda3\\envs\\EnvName\\lib\\site-packages\\tensorflow\\python\\framework\\op_def_library.py:263: colocate_with (from tensorflow.python.framework.ops) is deprecated and will be removed in a future version.\n",
      "Instructions for updating:\n",
      "Colocations handled automatically by placer.\n",
      "_________________________________________________________________\n",
      "Layer (type)                 Output Shape              Param #   \n",
      "=================================================================\n",
      "embedding_1 (Embedding)      (None, None, 100)         3000000   \n",
      "_________________________________________________________________\n",
      "simple_rnn_1 (SimpleRNN)     (None, None, 32)          4256      \n",
      "_________________________________________________________________\n",
      "simple_rnn_2 (SimpleRNN)     (None, None, 32)          2080      \n",
      "_________________________________________________________________\n",
      "simple_rnn_3 (SimpleRNN)     (None, None, 32)          2080      \n",
      "_________________________________________________________________\n",
      "simple_rnn_4 (SimpleRNN)     (None, 32)                2080      \n",
      "_________________________________________________________________\n",
      "dense_1 (Dense)              (None, 5)                 165       \n",
      "=================================================================\n",
      "Total params: 3,010,661\n",
      "Trainable params: 3,010,661\n",
      "Non-trainable params: 0\n",
      "_________________________________________________________________\n"
     ]
    }
   ],
   "source": [
    "from keras.models import Sequential\n",
    "from keras.layers import Embedding, SimpleRNN, Dense\n",
    "from keras import optimizers\n",
    "\n",
    "embedding_dim=100\n",
    "model=Sequential()\n",
    "model.add(Embedding(max_words,embedding_dim))\n",
    "model.add(SimpleRNN(32,return_sequences=True))\n",
    "model.add(SimpleRNN(32,return_sequences=True))\n",
    "model.add(SimpleRNN(32,return_sequences=True))\n",
    "model.add(SimpleRNN(32))\n",
    "model.add(Dense(5, activation='softmax'))\n",
    "model.compile(loss='categorical_crossentropy',optimizer=optimizers.Adam(lr=1e-4),metrics=['categorical_accuracy'])\n",
    "model.summary()"
   ]
  },
  {
   "cell_type": "markdown",
   "metadata": {},
   "source": [
    "# Model Training"
   ]
  },
  {
   "cell_type": "code",
   "execution_count": 4,
   "metadata": {},
   "outputs": [
    {
     "name": "stdout",
     "output_type": "stream",
     "text": [
      "WARNING:tensorflow:From C:\\Users\\Raheel\\Anaconda3\\envs\\EnvName\\lib\\site-packages\\tensorflow\\python\\ops\\math_ops.py:3066: to_int32 (from tensorflow.python.ops.math_ops) is deprecated and will be removed in a future version.\n",
      "Instructions for updating:\n",
      "Use tf.cast instead.\n",
      "Train on 1900 samples, validate on 325 samples\n",
      "Epoch 1/20\n",
      "1900/1900 [==============================] - 34s 18ms/step - loss: 1.7819 - categorical_accuracy: 0.2042 - val_loss: 1.7472 - val_categorical_accuracy: 0.1877\n",
      "Epoch 2/20\n",
      "1900/1900 [==============================] - 29s 15ms/step - loss: 1.4387 - categorical_accuracy: 0.4121 - val_loss: 1.7015 - val_categorical_accuracy: 0.2246\n",
      "Epoch 3/20\n",
      "1900/1900 [==============================] - 29s 15ms/step - loss: 1.2030 - categorical_accuracy: 0.5858 - val_loss: 1.6785 - val_categorical_accuracy: 0.2338\n",
      "Epoch 4/20\n",
      "1900/1900 [==============================] - 28s 15ms/step - loss: 0.9730 - categorical_accuracy: 0.7268 - val_loss: 1.6641 - val_categorical_accuracy: 0.2862\n",
      "Epoch 5/20\n",
      "1900/1900 [==============================] - 29s 15ms/step - loss: 0.7517 - categorical_accuracy: 0.8400 - val_loss: 1.6698 - val_categorical_accuracy: 0.3292\n",
      "Epoch 6/20\n",
      "1900/1900 [==============================] - 30s 16ms/step - loss: 0.5518 - categorical_accuracy: 0.9163 - val_loss: 1.7117 - val_categorical_accuracy: 0.3292\n",
      "Epoch 7/20\n",
      "1900/1900 [==============================] - 30s 16ms/step - loss: 0.3890 - categorical_accuracy: 0.9616 - val_loss: 1.7610 - val_categorical_accuracy: 0.3477\n",
      "Epoch 8/20\n",
      "1900/1900 [==============================] - 29s 15ms/step - loss: 0.2644 - categorical_accuracy: 0.9884 - val_loss: 1.8286 - val_categorical_accuracy: 0.3538\n",
      "Epoch 9/20\n",
      "1900/1900 [==============================] - 29s 15ms/step - loss: 0.1809 - categorical_accuracy: 0.9974 - val_loss: 1.8865 - val_categorical_accuracy: 0.3446\n",
      "Epoch 10/20\n",
      "1900/1900 [==============================] - 30s 16ms/step - loss: 0.1280 - categorical_accuracy: 1.0000 - val_loss: 1.9461 - val_categorical_accuracy: 0.3477\n",
      "Epoch 11/20\n",
      "1900/1900 [==============================] - 29s 15ms/step - loss: 0.0955 - categorical_accuracy: 1.0000 - val_loss: 1.9968 - val_categorical_accuracy: 0.3415\n",
      "Epoch 12/20\n",
      "1900/1900 [==============================] - 30s 16ms/step - loss: 0.0751 - categorical_accuracy: 1.0000 - val_loss: 2.0436 - val_categorical_accuracy: 0.3477\n",
      "Epoch 13/20\n",
      "1900/1900 [==============================] - 30s 16ms/step - loss: 0.0612 - categorical_accuracy: 1.0000 - val_loss: 2.0845 - val_categorical_accuracy: 0.3477\n",
      "Epoch 14/20\n",
      "1900/1900 [==============================] - 30s 16ms/step - loss: 0.0513 - categorical_accuracy: 1.0000 - val_loss: 2.1266 - val_categorical_accuracy: 0.3446\n",
      "Epoch 15/20\n",
      "1900/1900 [==============================] - 29s 15ms/step - loss: 0.0440 - categorical_accuracy: 1.0000 - val_loss: 2.1641 - val_categorical_accuracy: 0.3508\n",
      "Epoch 16/20\n",
      "1900/1900 [==============================] - 29s 15ms/step - loss: 0.0386 - categorical_accuracy: 1.0000 - val_loss: 2.1943 - val_categorical_accuracy: 0.3538\n",
      "Epoch 17/20\n",
      "1900/1900 [==============================] - 28s 14ms/step - loss: 0.0341 - categorical_accuracy: 1.0000 - val_loss: 2.2220 - val_categorical_accuracy: 0.3508\n",
      "Epoch 18/20\n",
      "1900/1900 [==============================] - 28s 14ms/step - loss: 0.0305 - categorical_accuracy: 1.0000 - val_loss: 2.2581 - val_categorical_accuracy: 0.3446\n",
      "Epoch 19/20\n",
      "1900/1900 [==============================] - 27s 14ms/step - loss: 0.0276 - categorical_accuracy: 1.0000 - val_loss: 2.2810 - val_categorical_accuracy: 0.3477\n",
      "Epoch 20/20\n",
      "1900/1900 [==============================] - 27s 14ms/step - loss: 0.0251 - categorical_accuracy: 1.0000 - val_loss: 2.3105 - val_categorical_accuracy: 0.3446\n"
     ]
    }
   ],
   "source": [
    "history=model.fit(x_train,y_train, epochs=20, batch_size=32, validation_data=(x_val,y_val))"
   ]
  },
  {
   "cell_type": "markdown",
   "metadata": {},
   "source": [
    "# Plotting the results"
   ]
  },
  {
   "cell_type": "code",
   "execution_count": 5,
   "metadata": {},
   "outputs": [
    {
     "data": {
      "image/png": "[encoded data removed]",
      "text/plain": [
       "<Figure size 432x288 with 1 Axes>"
      ]
     },
     "metadata": {
      "needs_background": "light"
     },
     "output_type": "display_data"
    },
    {
     "data": {
      "image/png": "[encoded data removed]",
      "text/plain": [
       "<Figure size 432x288 with 1 Axes>"
      ]
     },
     "metadata": {
      "needs_background": "light"
     },
     "output_type": "display_data"
    }
   ],
   "source": [
    "import matplotlib.pyplot as plt\n",
    "%matplotlib inline\n",
    "\n",
    "acc=history.history['categorical_accuracy']\n",
    "val_acc=history.history['val_categorical_accuracy']\n",
    "loss=history.history['loss']\n",
    "val_loss=history.history['val_loss']\n",
    "epochs=range(1,len(acc)+1)\n",
    "plt.xlabel('Epochs')\n",
    "plt.ylabel('Accuracy')\n",
    "plt.plot(epochs, acc, 'bo', label='Training acc')\n",
    "plt.plot(epochs, val_acc, 'b', label='Validation acc')\n",
    "plt.title('Training and validation accuracy')\n",
    "plt.legend()\n",
    "plt.figure()\n",
    "\n",
    "plt.plot(epochs, loss, 'bo', label='Training loss')\n",
    "plt.plot(epochs, val_loss, 'b', label='Validation loss')\n",
    "plt.title('Training and validation loss')\n",
    "plt.xlabel('Epochs')\n",
    "plt.ylabel('Loss')\n",
    "plt.legend()\n",
    "plt.show()"
   ]
  }
 ],
 "metadata": {
  "kernelspec": {
   "display_name": "Python 3",
   "language": "python",
   "name": "python3"
  },
  "language_info": {
   "codemirror_mode": {
    "name": "ipython",
    "version": 3
   },
   "file_extension": ".py",
   "mimetype": "text/x-python",
   "name": "python",
   "nbconvert_exporter": "python",
   "pygments_lexer": "ipython3",
   "version": "3.6.8"
  }
 },
 "nbformat": 4,
 "nbformat_minor": 2
}
