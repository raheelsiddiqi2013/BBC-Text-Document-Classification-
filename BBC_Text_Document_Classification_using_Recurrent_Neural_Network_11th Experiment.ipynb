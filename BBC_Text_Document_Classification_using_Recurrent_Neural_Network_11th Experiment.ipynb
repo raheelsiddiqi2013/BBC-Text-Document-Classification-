{
 "cells": [
  {
   "cell_type": "markdown",
   "metadata": {},
   "source": [
    "# Preprocessing the raw BBC Text Document Data"
   ]
  },
  {
   "cell_type": "code",
   "execution_count": 1,
   "metadata": {},
   "outputs": [],
   "source": [
    "import os\n",
    "\n",
    "bbc_dir='D:\\\\TensorFlow Programs\\\\Text Classification Programs and Datasets\\\\bbc'\n",
    "\n",
    "labels = []\n",
    "texts = []\n",
    "\n",
    "for label_type in ['business','entertainment','politics','sport','tech']:\n",
    "    dir_name=os.path.join(bbc_dir, label_type)\n",
    "    for fname in os.listdir(dir_name):\n",
    "        if fname[-4:]=='.txt':\n",
    "            f=open(os.path.join(dir_name,fname))\n",
    "            texts.append(f.read())\n",
    "            f.close()\n",
    "            if label_type=='business':\n",
    "                labels.append(0)\n",
    "            elif label_type=='entertainment':\n",
    "                labels.append(1)\n",
    "            elif label_type=='politics':\n",
    "                labels.append(2)\n",
    "            elif label_type=='sport':\n",
    "                labels.append(3)\n",
    "            elif label_type=='tech':\n",
    "                labels.append(4)"
   ]
  },
  {
   "cell_type": "markdown",
   "metadata": {},
   "source": [
    "# Tokenizing the data"
   ]
  },
  {
   "cell_type": "code",
   "execution_count": 2,
   "metadata": {},
   "outputs": [
    {
     "name": "stderr",
     "output_type": "stream",
     "text": [
      "Using TensorFlow backend.\n"
     ]
    },
    {
     "name": "stdout",
     "output_type": "stream",
     "text": [
      "Found 32360 unique tokens\n",
      "(2225, 5)\n",
      "Shape of data tensor: (2225, 400)\n",
      "Shape of label tensor: (2225, 5)\n"
     ]
    }
   ],
   "source": [
    "from keras.preprocessing.text import Tokenizer\n",
    "from keras.preprocessing.sequence import pad_sequences\n",
    "from keras.utils import to_categorical\n",
    "import numpy as np\n",
    "\n",
    "maxlen=400\n",
    "training_samples=1900\n",
    "validation_samples=len(texts)-training_samples\n",
    "max_words=30000\n",
    "\n",
    "tokenizer=Tokenizer(num_words=max_words)\n",
    "tokenizer.fit_on_texts(texts)\n",
    "sequences=tokenizer.texts_to_sequences(texts)\n",
    "word_index=tokenizer.word_index\n",
    "print('Found %s unique tokens'%len(word_index))\n",
    "\n",
    "data=pad_sequences(sequences, maxlen=maxlen)\n",
    "\n",
    "labels=np.asarray(labels)\n",
    "labels=to_categorical(labels,num_classes=5)\n",
    "print(labels.shape)\n",
    "print('Shape of data tensor:',data.shape)\n",
    "print('Shape of label tensor:',labels.shape)\n",
    "\n",
    "indices=np.arange(data.shape[0])\n",
    "np.random.shuffle(indices)\n",
    "data=data[indices]\n",
    "labels=labels[indices]\n",
    "      \n",
    "x_train=data[:training_samples]\n",
    "y_train=labels[:training_samples]\n",
    "x_val=data[training_samples:training_samples+validation_samples]\n",
    "y_val=labels[training_samples:training_samples+validation_samples]"
   ]
  },
  {
   "cell_type": "markdown",
   "metadata": {},
   "source": [
    "# Defining a model"
   ]
  },
  {
   "cell_type": "code",
   "execution_count": 3,
   "metadata": {},
   "outputs": [
    {
     "name": "stdout",
     "output_type": "stream",
     "text": [
      "WARNING:tensorflow:From C:\\Users\\Raheel\\Anaconda3\\envs\\EnvName\\lib\\site-packages\\tensorflow\\python\\framework\\op_def_library.py:263: colocate_with (from tensorflow.python.framework.ops) is deprecated and will be removed in a future version.\n",
      "Instructions for updating:\n",
      "Colocations handled automatically by placer.\n",
      "_________________________________________________________________\n",
      "Layer (type)                 Output Shape              Param #   \n",
      "=================================================================\n",
      "embedding_1 (Embedding)      (None, None, 100)         3000000   \n",
      "_________________________________________________________________\n",
      "lstm_1 (LSTM)                (None, None, 256)         365568    \n",
      "_________________________________________________________________\n",
      "lstm_2 (LSTM)                (None, 256)               525312    \n",
      "_________________________________________________________________\n",
      "dense_1 (Dense)              (None, 5)                 1285      \n",
      "=================================================================\n",
      "Total params: 3,892,165\n",
      "Trainable params: 3,892,165\n",
      "Non-trainable params: 0\n",
      "_________________________________________________________________\n"
     ]
    }
   ],
   "source": [
    "from keras.models import Sequential\n",
    "from keras.layers import Embedding, LSTM, Dense\n",
    "from keras import optimizers\n",
    "from keras.callbacks import ModelCheckpoint\n",
    "\n",
    "embedding_dim=100\n",
    "model=Sequential()\n",
    "model.add(Embedding(max_words,embedding_dim))\n",
    "model.add(LSTM(256, return_sequences=True))\n",
    "model.add(LSTM(256))\n",
    "model.add(Dense(5, activation='softmax'))\n",
    "model.compile(loss='categorical_crossentropy',optimizer=optimizers.Adam(lr=1e-4),metrics=['categorical_accuracy'])\n",
    "model.summary()\n",
    "filepath=\"BBC_Text_Document_Classification_using_Recurrent_Neural_Network_10th Experiment.h5\"\n",
    "checkpoint = ModelCheckpoint(filepath, save_best_only=True)\n",
    "callbacks_list = [checkpoint]"
   ]
  },
  {
   "cell_type": "markdown",
   "metadata": {},
   "source": [
    "# Model Training"
   ]
  },
  {
   "cell_type": "code",
   "execution_count": 4,
   "metadata": {},
   "outputs": [
    {
     "name": "stdout",
     "output_type": "stream",
     "text": [
      "WARNING:tensorflow:From C:\\Users\\Raheel\\Anaconda3\\envs\\EnvName\\lib\\site-packages\\tensorflow\\python\\ops\\math_ops.py:3066: to_int32 (from tensorflow.python.ops.math_ops) is deprecated and will be removed in a future version.\n",
      "Instructions for updating:\n",
      "Use tf.cast instead.\n",
      "Train on 1900 samples, validate on 325 samples\n",
      "Epoch 1/50\n",
      "1900/1900 [==============================] - 65s 34ms/step - loss: 1.6064 - categorical_accuracy: 0.2516 - val_loss: 1.6100 - val_categorical_accuracy: 0.1938\n",
      "Epoch 2/50\n",
      "1900/1900 [==============================] - 61s 32ms/step - loss: 1.5878 - categorical_accuracy: 0.2705 - val_loss: 1.5879 - val_categorical_accuracy: 0.2000\n",
      "Epoch 3/50\n",
      "1900/1900 [==============================] - 59s 31ms/step - loss: 1.3342 - categorical_accuracy: 0.4479 - val_loss: 1.2193 - val_categorical_accuracy: 0.4769\n",
      "Epoch 4/50\n",
      "1900/1900 [==============================] - 64s 34ms/step - loss: 0.9457 - categorical_accuracy: 0.6089 - val_loss: 0.9699 - val_categorical_accuracy: 0.5754\n",
      "Epoch 5/50\n",
      "1900/1900 [==============================] - 61s 32ms/step - loss: 0.6706 - categorical_accuracy: 0.6821 - val_loss: 0.9508 - val_categorical_accuracy: 0.5846\n",
      "Epoch 6/50\n",
      "1900/1900 [==============================] - 62s 33ms/step - loss: 0.6445 - categorical_accuracy: 0.7011 - val_loss: 0.8244 - val_categorical_accuracy: 0.5631\n",
      "Epoch 7/50\n",
      "1900/1900 [==============================] - 62s 33ms/step - loss: 0.6113 - categorical_accuracy: 0.7016 - val_loss: 0.7212 - val_categorical_accuracy: 0.6431\n",
      "Epoch 8/50\n",
      "1900/1900 [==============================] - 64s 34ms/step - loss: 0.5610 - categorical_accuracy: 0.7679 - val_loss: 0.7880 - val_categorical_accuracy: 0.6431\n",
      "Epoch 9/50\n",
      "1900/1900 [==============================] - 61s 32ms/step - loss: 0.4057 - categorical_accuracy: 0.8384 - val_loss: 0.6988 - val_categorical_accuracy: 0.7569\n",
      "Epoch 10/50\n",
      "1900/1900 [==============================] - 59s 31ms/step - loss: 0.3647 - categorical_accuracy: 0.8689 - val_loss: 0.5382 - val_categorical_accuracy: 0.7908\n",
      "Epoch 11/50\n",
      "1900/1900 [==============================] - 60s 32ms/step - loss: 0.2313 - categorical_accuracy: 0.9321 - val_loss: 0.8923 - val_categorical_accuracy: 0.7046\n",
      "Epoch 12/50\n",
      "1900/1900 [==============================] - 59s 31ms/step - loss: 0.3473 - categorical_accuracy: 0.8905 - val_loss: 0.5149 - val_categorical_accuracy: 0.8215\n",
      "Epoch 13/50\n",
      "1900/1900 [==============================] - 60s 31ms/step - loss: 0.1086 - categorical_accuracy: 0.9716 - val_loss: 0.4907 - val_categorical_accuracy: 0.8338\n",
      "Epoch 14/50\n",
      "1900/1900 [==============================] - 60s 31ms/step - loss: 0.0928 - categorical_accuracy: 0.9737 - val_loss: 0.5351 - val_categorical_accuracy: 0.8308\n",
      "Epoch 15/50\n",
      "1900/1900 [==============================] - 60s 31ms/step - loss: 0.0540 - categorical_accuracy: 0.9874 - val_loss: 0.4767 - val_categorical_accuracy: 0.8615\n",
      "Epoch 16/50\n",
      "1900/1900 [==============================] - 59s 31ms/step - loss: 0.1166 - categorical_accuracy: 0.9579 - val_loss: 0.5264 - val_categorical_accuracy: 0.8277\n",
      "Epoch 17/50\n",
      "1900/1900 [==============================] - 59s 31ms/step - loss: 0.1294 - categorical_accuracy: 0.9763 - val_loss: 0.3468 - val_categorical_accuracy: 0.8892\n",
      "Epoch 18/50\n",
      "1900/1900 [==============================] - 59s 31ms/step - loss: 0.0515 - categorical_accuracy: 0.9863 - val_loss: 0.4492 - val_categorical_accuracy: 0.8646\n",
      "Epoch 19/50\n",
      "1900/1900 [==============================] - 59s 31ms/step - loss: 0.0248 - categorical_accuracy: 0.9963 - val_loss: 0.3579 - val_categorical_accuracy: 0.8862\n",
      "Epoch 20/50\n",
      "1900/1900 [==============================] - 58s 31ms/step - loss: 0.0740 - categorical_accuracy: 0.9742 - val_loss: 0.6420 - val_categorical_accuracy: 0.8277\n",
      "Epoch 21/50\n",
      "1900/1900 [==============================] - 59s 31ms/step - loss: 0.0235 - categorical_accuracy: 0.9974 - val_loss: 0.4115 - val_categorical_accuracy: 0.8708\n",
      "Epoch 22/50\n",
      "1900/1900 [==============================] - 59s 31ms/step - loss: 0.0179 - categorical_accuracy: 0.9979 - val_loss: 0.4205 - val_categorical_accuracy: 0.8800\n",
      "Epoch 23/50\n",
      "1900/1900 [==============================] - 59s 31ms/step - loss: 0.0072 - categorical_accuracy: 1.0000 - val_loss: 0.4243 - val_categorical_accuracy: 0.8862\n",
      "Epoch 24/50\n",
      "1900/1900 [==============================] - 59s 31ms/step - loss: 0.0052 - categorical_accuracy: 1.0000 - val_loss: 0.4494 - val_categorical_accuracy: 0.8954\n",
      "Epoch 25/50\n",
      "1900/1900 [==============================] - 59s 31ms/step - loss: 0.0041 - categorical_accuracy: 1.0000 - val_loss: 0.4652 - val_categorical_accuracy: 0.8985\n",
      "Epoch 26/50\n",
      "1900/1900 [==============================] - 58s 31ms/step - loss: 0.0038 - categorical_accuracy: 1.0000 - val_loss: 0.5122 - val_categorical_accuracy: 0.8892\n",
      "Epoch 27/50\n",
      "1900/1900 [==============================] - 58s 30ms/step - loss: 0.0035 - categorical_accuracy: 1.0000 - val_loss: 0.5130 - val_categorical_accuracy: 0.8862\n",
      "Epoch 28/50\n",
      "1900/1900 [==============================] - 58s 30ms/step - loss: 0.0118 - categorical_accuracy: 0.9989 - val_loss: 0.5788 - val_categorical_accuracy: 0.8585\n",
      "Epoch 29/50\n",
      "1900/1900 [==============================] - 58s 30ms/step - loss: 0.0174 - categorical_accuracy: 0.9958 - val_loss: 0.5998 - val_categorical_accuracy: 0.8523\n",
      "Epoch 30/50\n",
      "1900/1900 [==============================] - 58s 31ms/step - loss: 0.0116 - categorical_accuracy: 0.9984 - val_loss: 0.4418 - val_categorical_accuracy: 0.8862\n",
      "Epoch 31/50\n",
      "1900/1900 [==============================] - 58s 31ms/step - loss: 0.0976 - categorical_accuracy: 0.9774 - val_loss: 0.5397 - val_categorical_accuracy: 0.8277\n",
      "Epoch 32/50\n",
      "1900/1900 [==============================] - 58s 30ms/step - loss: 0.0173 - categorical_accuracy: 0.9974 - val_loss: 0.4574 - val_categorical_accuracy: 0.8615\n",
      "Epoch 33/50\n",
      "1900/1900 [==============================] - 59s 31ms/step - loss: 0.0144 - categorical_accuracy: 0.9968 - val_loss: 0.4476 - val_categorical_accuracy: 0.8831\n",
      "Epoch 34/50\n",
      "1900/1900 [==============================] - 60s 32ms/step - loss: 0.0078 - categorical_accuracy: 0.9989 - val_loss: 0.4309 - val_categorical_accuracy: 0.8831\n",
      "Epoch 35/50\n",
      "1900/1900 [==============================] - 58s 31ms/step - loss: 0.0037 - categorical_accuracy: 1.0000 - val_loss: 0.4471 - val_categorical_accuracy: 0.8923\n",
      "Epoch 36/50\n",
      "1900/1900 [==============================] - 59s 31ms/step - loss: 0.0028 - categorical_accuracy: 1.0000 - val_loss: 0.4586 - val_categorical_accuracy: 0.8923\n",
      "Epoch 37/50\n",
      "1900/1900 [==============================] - 60s 32ms/step - loss: 0.0023 - categorical_accuracy: 1.0000 - val_loss: 0.4671 - val_categorical_accuracy: 0.8954\n",
      "Epoch 38/50\n",
      "1900/1900 [==============================] - 59s 31ms/step - loss: 0.0020 - categorical_accuracy: 1.0000 - val_loss: 0.4726 - val_categorical_accuracy: 0.8954\n",
      "Epoch 39/50\n",
      "1900/1900 [==============================] - 58s 30ms/step - loss: 0.0017 - categorical_accuracy: 1.0000 - val_loss: 0.4762 - val_categorical_accuracy: 0.8923\n",
      "Epoch 40/50\n",
      "1900/1900 [==============================] - 57s 30ms/step - loss: 0.0015 - categorical_accuracy: 1.0000 - val_loss: 0.4868 - val_categorical_accuracy: 0.8985\n",
      "Epoch 41/50\n",
      "1900/1900 [==============================] - 58s 30ms/step - loss: 0.0014 - categorical_accuracy: 1.0000 - val_loss: 0.4880 - val_categorical_accuracy: 0.9015\n",
      "Epoch 42/50\n",
      "1900/1900 [==============================] - 58s 31ms/step - loss: 0.0013 - categorical_accuracy: 1.0000 - val_loss: 0.5000 - val_categorical_accuracy: 0.9015\n",
      "Epoch 43/50\n",
      "1900/1900 [==============================] - 59s 31ms/step - loss: 0.0012 - categorical_accuracy: 1.0000 - val_loss: 0.5082 - val_categorical_accuracy: 0.8954\n",
      "Epoch 44/50\n",
      "1900/1900 [==============================] - 58s 31ms/step - loss: 0.0011 - categorical_accuracy: 1.0000 - val_loss: 0.5213 - val_categorical_accuracy: 0.9015\n",
      "Epoch 45/50\n",
      "1900/1900 [==============================] - 58s 31ms/step - loss: 0.0010 - categorical_accuracy: 1.0000 - val_loss: 0.5337 - val_categorical_accuracy: 0.8954\n",
      "Epoch 46/50\n",
      "1900/1900 [==============================] - 58s 31ms/step - loss: 9.6194e-04 - categorical_accuracy: 1.0000 - val_loss: 0.5448 - val_categorical_accuracy: 0.8923\n",
      "Epoch 47/50\n"
     ]
    },
    {
     "name": "stdout",
     "output_type": "stream",
     "text": [
      "1900/1900 [==============================] - 58s 31ms/step - loss: 8.9949e-04 - categorical_accuracy: 1.0000 - val_loss: 0.5453 - val_categorical_accuracy: 0.8985\n",
      "Epoch 48/50\n",
      "1900/1900 [==============================] - 58s 30ms/step - loss: 8.4709e-04 - categorical_accuracy: 1.0000 - val_loss: 0.5520 - val_categorical_accuracy: 0.8954\n",
      "Epoch 49/50\n",
      "1900/1900 [==============================] - 58s 30ms/step - loss: 7.9942e-04 - categorical_accuracy: 1.0000 - val_loss: 0.5573 - val_categorical_accuracy: 0.8954\n",
      "Epoch 50/50\n",
      "1900/1900 [==============================] - 58s 30ms/step - loss: 7.5549e-04 - categorical_accuracy: 1.0000 - val_loss: 0.5610 - val_categorical_accuracy: 0.8923\n"
     ]
    }
   ],
   "source": [
    "history=model.fit(x_train,y_train, epochs=50, callbacks=callbacks_list, batch_size=32, validation_data=(x_val,y_val))"
   ]
  },
  {
   "cell_type": "markdown",
   "metadata": {},
   "source": [
    "# Plotting the results"
   ]
  },
  {
   "cell_type": "code",
   "execution_count": 5,
   "metadata": {},
   "outputs": [
    {
     "data": {
      "image/png": "[encoded data removed]",
      "text/plain": [
       "<Figure size 432x288 with 1 Axes>"
      ]
     },
     "metadata": {
      "needs_background": "light"
     },
     "output_type": "display_data"
    },
    {
     "data": {
      "image/png": "[encoded data removed]",
      "text/plain": [
       "<Figure size 432x288 with 1 Axes>"
      ]
     },
     "metadata": {
      "needs_background": "light"
     },
     "output_type": "display_data"
    }
   ],
   "source": [
    "import matplotlib.pyplot as plt\n",
    "%matplotlib inline\n",
    "\n",
    "acc=history.history['categorical_accuracy']\n",
    "val_acc=history.history['val_categorical_accuracy']\n",
    "loss=history.history['loss']\n",
    "val_loss=history.history['val_loss']\n",
    "epochs=range(1,len(acc)+1)\n",
    "plt.xlabel('Epochs')\n",
    "plt.ylabel('Accuracy')\n",
    "plt.plot(epochs, acc, 'bo', label='Training acc')\n",
    "plt.plot(epochs, val_acc, 'b', label='Validation acc')\n",
    "plt.title('Training and validation accuracy')\n",
    "plt.legend()\n",
    "plt.figure()\n",
    "\n",
    "plt.plot(epochs, loss, 'bo', label='Training loss')\n",
    "plt.plot(epochs, val_loss, 'b', label='Validation loss')\n",
    "plt.title('Training and validation loss')\n",
    "plt.xlabel('Epochs')\n",
    "plt.ylabel('Loss')\n",
    "plt.legend()\n",
    "plt.show()"
   ]
  },
  {
   "cell_type": "code",
   "execution_count": 6,
   "metadata": {},
   "outputs": [],
   "source": [
    "from tensorflow.python.keras.models import load_model\n",
    "\n",
    "best_model = load_model('BBC_Text_Document_Classification_using_Recurrent_Neural_Network_10th Experiment.h5')"
   ]
  },
  {
   "cell_type": "code",
   "execution_count": 7,
   "metadata": {},
   "outputs": [
    {
     "name": "stdout",
     "output_type": "stream",
     "text": [
      "10/10 [==============================] - 5s 500ms/step - loss: 0.3468 - categorical_accuracy: 0.8892\n",
      "Validation-set accuracy: 88.92%\n"
     ]
    }
   ],
   "source": [
    "from tensorflow.python.keras.models import load_model\n",
    "\n",
    "batch_size=32\n",
    "steps_test=int(len(x_val)/batch_size)\n",
    "result = best_model.evaluate(x_val, y_val, steps=steps_test,verbose=1)\n",
    "print(\"Validation-set accuracy: {0:.2%}\".format(result[1]))"
   ]
  },
  {
   "cell_type": "code",
   "execution_count": 8,
   "metadata": {},
   "outputs": [
    {
     "name": "stdout",
     "output_type": "stream",
     "text": [
      "325/325 [==============================] - 5s 15ms/sample\n",
      "(325, 1)\n",
      "(325, 1)\n"
     ]
    }
   ],
   "source": [
    "# Get predictions\n",
    "preds = best_model.predict(x_val, batch_size=16,verbose=1)\n",
    "preds=np.around(preds)\n",
    "\n",
    "orig_val_labels=np.argmax(y_val,axis=1)\n",
    "predicted_labels=np.argmax(preds,axis=1)\n",
    "\n",
    "orig_val_labels=np.reshape(orig_val_labels,(325,1))\n",
    "predicted_labels=np.reshape(predicted_labels,(325,1))\n",
    "\n",
    "print(predicted_labels.shape)\n",
    "print(orig_val_labels.shape)"
   ]
  },
  {
   "cell_type": "code",
   "execution_count": 9,
   "metadata": {},
   "outputs": [
    {
     "data": {
      "text/plain": [
       "<Figure size 432x288 with 0 Axes>"
      ]
     },
     "metadata": {},
     "output_type": "display_data"
    },
    {
     "data": {
      "image/png": "[encoded data removed]",
      "text/plain": [
       "<Figure size 1080x720 with 1 Axes>"
      ]
     },
     "metadata": {
      "needs_background": "light"
     },
     "output_type": "display_data"
    }
   ],
   "source": [
    "import matplotlib.pyplot as plt\n",
    "%matplotlib inline\n",
    "# Get the confusion matrix\n",
    "from sklearn.metrics import confusion_matrix\n",
    "from mlxtend.plotting import plot_confusion_matrix\n",
    "\n",
    "cm  = confusion_matrix(orig_val_labels, predicted_labels)\n",
    "plt.figure()\n",
    "plot_confusion_matrix(cm,figsize=(15,10), hide_ticks=True,cmap=plt.cm.Blues)\n",
    "plt.xticks(range(5), ['business', 'entertainment','politics','sport','tech'], fontsize=16)\n",
    "plt.yticks(range(5), ['business', 'entertainment','politics','sport','tech'], fontsize=16)\n",
    "plt.show()"
   ]
  }
 ],
 "metadata": {
  "kernelspec": {
   "display_name": "Python 3",
   "language": "python",
   "name": "python3"
  },
  "language_info": {
   "codemirror_mode": {
    "name": "ipython",
    "version": 3
   },
   "file_extension": ".py",
   "mimetype": "text/x-python",
   "name": "python",
   "nbconvert_exporter": "python",
   "pygments_lexer": "ipython3",
   "version": "3.6.8"
  }
 },
 "nbformat": 4,
 "nbformat_minor": 2
}
